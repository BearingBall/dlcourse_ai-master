{
 "cells": [
  {
   "cell_type": "markdown",
   "metadata": {},
   "source": [
    "# Задание 2.1 - Нейронные сети\n",
    "\n",
    "В этом задании вы реализуете и натренируете настоящую нейроную сеть своими руками!\n",
    "\n",
    "В некотором смысле это будет расширением прошлого задания - нам нужно просто составить несколько линейных классификаторов вместе!\n",
    "\n",
    "<img src=\"https://i.redd.it/n9fgba8b0qr01.png\" alt=\"Stack_more_layers\" width=\"400px\"/>"
   ]
  },
  {
   "cell_type": "code",
   "execution_count": 1,
   "metadata": {},
   "outputs": [],
   "source": [
    "import numpy as np\n",
    "import matplotlib.pyplot as plt\n",
    "\n",
    "%matplotlib inline\n",
    "\n",
    "%load_ext autoreload\n",
    "%autoreload 2"
   ]
  },
  {
   "cell_type": "code",
   "execution_count": 2,
   "metadata": {},
   "outputs": [],
   "source": [
    "from dataset import load_svhn, random_split_train_val\n",
    "from gradient_check import check_layer_gradient, check_layer_param_gradient, check_model_gradient\n",
    "from layers import FullyConnectedLayer, ReLULayer\n",
    "from model import TwoLayerNet\n",
    "from trainer import Trainer, Dataset\n",
    "from optim import SGD, MomentumSGD\n",
    "from metrics import multiclass_accuracy"
   ]
  },
  {
   "cell_type": "markdown",
   "metadata": {},
   "source": [
    "# Загружаем данные\n",
    "\n",
    "И разделяем их на training и validation."
   ]
  },
  {
   "cell_type": "code",
   "execution_count": 3,
   "metadata": {},
   "outputs": [],
   "source": [
    "def prepare_for_neural_network(train_X, test_X):\n",
    "    train_flat = train_X.reshape(train_X.shape[0], -1).astype(np.float) / 255.0\n",
    "    test_flat = test_X.reshape(test_X.shape[0], -1).astype(np.float) / 255.0\n",
    "    \n",
    "    # Subtract mean\n",
    "    mean_image = np.mean(train_flat, axis = 0)\n",
    "    train_flat -= mean_image\n",
    "    test_flat -= mean_image\n",
    "    \n",
    "    return train_flat, test_flat\n",
    "    \n",
    "train_X, train_y, test_X, test_y = load_svhn(\"data\", max_train=10000, max_test=1000)    \n",
    "train_X, test_X = prepare_for_neural_network(train_X, test_X)\n",
    "# Split train into train and val\n",
    "train_X, train_y, val_X, val_y = random_split_train_val(train_X, train_y, num_val = 1000)"
   ]
  },
  {
   "cell_type": "markdown",
   "metadata": {},
   "source": [
    "# Как всегда, начинаем с кирпичиков\n",
    "\n",
    "Мы будем реализовывать необходимые нам слои по очереди. Каждый слой должен реализовать:\n",
    "- прямой проход (forward pass), который генерирует выход слоя по входу и запоминает необходимые данные\n",
    "- обратный проход (backward pass), который получает градиент по выходу слоя и вычисляет градиент по входу и по параметрам\n",
    "\n",
    "Начнем с ReLU, у которого параметров нет."
   ]
  },
  {
   "cell_type": "code",
   "execution_count": 5,
   "metadata": {},
   "outputs": [
    {
     "name": "stdout",
     "output_type": "stream",
     "text": [
      "Gradient check passed!\n"
     ]
    }
   ],
   "source": [
    "# TODO: Implement ReLULayer layer in layers.py\n",
    "# Note: you'll need to copy implementation of the gradient_check function from the previous assignment\n",
    "\n",
    "X = np.array([[1,-2,3],\n",
    "              [-1, 2, 0.1]\n",
    "              ])\n",
    "\n",
    "assert check_layer_gradient(ReLULayer(), X)"
   ]
  },
  {
   "cell_type": "markdown",
   "metadata": {},
   "source": [
    "А теперь реализуем полносвязный слой (fully connected layer), у которого будет два массива параметров: W (weights) и B (bias).\n",
    "\n",
    "Все параметры наши слои будут использовать для параметров специальный класс `Param`, в котором будут храниться значения параметров и градиенты этих параметров, вычисляемые во время обратного прохода.\n",
    "\n",
    "Это даст возможность аккумулировать (суммировать) градиенты из разных частей функции потерь, например, из cross-entropy loss и regularization loss."
   ]
  },
  {
   "cell_type": "code",
   "execution_count": 6,
   "metadata": {},
   "outputs": [
    {
     "name": "stdout",
     "output_type": "stream",
     "text": [
      "Gradient check passed!\n",
      "Gradient check passed!\n",
      "Gradient check passed!\n"
     ]
    }
   ],
   "source": [
    "# TODO: Implement FullyConnected layer forward and backward methods\n",
    "assert check_layer_gradient(FullyConnectedLayer(3, 4), X)\n",
    "# TODO: Implement storing gradients for W and B\n",
    "assert check_layer_param_gradient(FullyConnectedLayer(3, 4), X, 'W')\n",
    "assert check_layer_param_gradient(FullyConnectedLayer(3, 4), X, 'B')"
   ]
  },
  {
   "cell_type": "markdown",
   "metadata": {},
   "source": [
    "## Создаем нейронную сеть\n",
    "\n",
    "Теперь мы реализуем простейшую нейронную сеть с двумя полносвязным слоями и нелинейностью ReLU. Реализуйте функцию `compute_loss_and_gradients`, она должна запустить прямой и обратный проход через оба слоя для вычисления градиентов.\n",
    "\n",
    "Не забудьте реализовать очистку градиентов в начале функции."
   ]
  },
  {
   "cell_type": "code",
   "execution_count": 8,
   "metadata": {},
   "outputs": [
    {
     "name": "stdout",
     "output_type": "stream",
     "text": [
      "Checking gradient for inputLayerW\n",
      "Gradient check passed!\n",
      "Checking gradient for inputLayerB\n",
      "Gradient check passed!\n",
      "Checking gradient for outputLayerW\n",
      "Gradient check passed!\n",
      "Checking gradient for outputLayerB\n",
      "Gradient check passed!\n"
     ]
    },
    {
     "data": {
      "text/plain": [
       "True"
      ]
     },
     "execution_count": 8,
     "metadata": {},
     "output_type": "execute_result"
    }
   ],
   "source": [
    "# TODO: In model.py, implement compute_loss_and_gradients function\n",
    "model = TwoLayerNet(n_input = train_X.shape[1], n_output = 10, hidden_layer_size = 3, reg = 0)\n",
    "loss = model.compute_loss_and_gradients(train_X[:2], train_y[:2])\n",
    "\n",
    "# TODO Now implement backward pass and aggregate all of the params\n",
    "check_model_gradient(model, train_X[:2], train_y[:2])"
   ]
  },
  {
   "cell_type": "markdown",
   "metadata": {},
   "source": [
    "Теперь добавьте к модели регуляризацию - она должна прибавляться к loss и делать свой вклад в градиенты."
   ]
  },
  {
   "cell_type": "code",
   "execution_count": 10,
   "metadata": {},
   "outputs": [
    {
     "name": "stdout",
     "output_type": "stream",
     "text": [
      "Checking gradient for inputLayerW\n",
      "Gradient check passed!\n",
      "Checking gradient for inputLayerB\n",
      "Gradient check passed!\n",
      "Checking gradient for outputLayerW\n",
      "Gradient check passed!\n",
      "Checking gradient for outputLayerB\n",
      "Gradient check passed!\n"
     ]
    },
    {
     "data": {
      "text/plain": [
       "True"
      ]
     },
     "execution_count": 10,
     "metadata": {},
     "output_type": "execute_result"
    }
   ],
   "source": [
    "# TODO Now implement l2 regularization in the forward and backward pass\n",
    "model_with_reg = TwoLayerNet(n_input = train_X.shape[1], n_output = 10, hidden_layer_size = 3, reg = 1e1)\n",
    "loss_with_reg = model_with_reg.compute_loss_and_gradients(train_X[:2], train_y[:2])\n",
    "assert loss_with_reg > loss and not np.isclose(loss_with_reg, loss), \\\n",
    "    \"Loss with regularization (%2.4f) should be higher than without it (%2.4f)!\" % (loss, loss_with_reg)\n",
    "\n",
    "check_model_gradient(model_with_reg, train_X[:2], train_y[:2])"
   ]
  },
  {
   "cell_type": "markdown",
   "metadata": {},
   "source": [
    "Также реализуем функцию предсказания (вычисления значения) модели на новых данных.\n",
    "\n",
    "Какое значение точности мы ожидаем увидеть до начала тренировки?"
   ]
  },
  {
   "cell_type": "code",
   "execution_count": 11,
   "metadata": {},
   "outputs": [
    {
     "data": {
      "text/plain": [
       "0.03333333333333333"
      ]
     },
     "execution_count": 11,
     "metadata": {},
     "output_type": "execute_result"
    }
   ],
   "source": [
    "# Finally, implement predict function!\n",
    "\n",
    "# TODO: Implement predict function\n",
    "# What would be the value we expect?\n",
    "multiclass_accuracy(model_with_reg.predict(train_X[:30]), train_y[:30]) "
   ]
  },
  {
   "cell_type": "markdown",
   "metadata": {},
   "source": [
    "# Допишем код для процесса тренировки\n",
    "\n",
    "Если все реализовано корректно, значение функции ошибки должно уменьшаться с каждой эпохой, пусть и медленно. Не беспокойтесь пока про validation accuracy."
   ]
  },
  {
   "cell_type": "code",
   "execution_count": 12,
   "metadata": {},
   "outputs": [
    {
     "name": "stdout",
     "output_type": "stream",
     "text": [
      "Loss: 2.280725, Train accuracy: 0.196667, val accuracy: 0.206000\n",
      "Loss: 2.289956, Train accuracy: 0.196667, val accuracy: 0.206000\n",
      "Loss: 2.236525, Train accuracy: 0.196667, val accuracy: 0.206000\n",
      "Loss: 2.276781, Train accuracy: 0.196667, val accuracy: 0.206000\n",
      "Loss: 2.365161, Train accuracy: 0.196667, val accuracy: 0.206000\n",
      "Loss: 2.287190, Train accuracy: 0.196667, val accuracy: 0.206000\n",
      "Loss: 2.165344, Train accuracy: 0.196667, val accuracy: 0.206000\n",
      "Loss: 2.044785, Train accuracy: 0.196667, val accuracy: 0.206000\n",
      "Loss: 2.206464, Train accuracy: 0.208667, val accuracy: 0.219000\n",
      "Loss: 2.359443, Train accuracy: 0.233556, val accuracy: 0.235000\n",
      "Loss: 2.076065, Train accuracy: 0.264444, val accuracy: 0.256000\n",
      "Loss: 2.143698, Train accuracy: 0.270444, val accuracy: 0.270000\n",
      "Loss: 1.904671, Train accuracy: 0.274333, val accuracy: 0.278000\n",
      "Loss: 1.682343, Train accuracy: 0.310333, val accuracy: 0.316000\n",
      "Loss: 1.694516, Train accuracy: 0.350111, val accuracy: 0.347000\n",
      "Loss: 1.697872, Train accuracy: 0.387778, val accuracy: 0.375000\n",
      "Loss: 1.725287, Train accuracy: 0.411889, val accuracy: 0.393000\n",
      "Loss: 1.448130, Train accuracy: 0.437222, val accuracy: 0.433000\n",
      "Loss: 1.892246, Train accuracy: 0.460111, val accuracy: 0.448000\n",
      "Loss: 1.531360, Train accuracy: 0.480444, val accuracy: 0.474000\n"
     ]
    }
   ],
   "source": [
    "model = TwoLayerNet(n_input = train_X.shape[1], n_output = 10, hidden_layer_size = 100, reg = 1e-3)\n",
    "dataset = Dataset(train_X, train_y, val_X, val_y)\n",
    "trainer = Trainer(model, dataset, SGD(), learning_rate = 1e-2)\n",
    "\n",
    "# TODO Implement missing pieces in Trainer.fit function\n",
    "# You should expect loss to go down every epoch, even if it's slow\n",
    "loss_history, train_history, val_history = trainer.fit()"
   ]
  },
  {
   "cell_type": "code",
   "execution_count": 15,
   "metadata": {},
   "outputs": [
    {
     "data": {
      "text/plain": [
       "[<matplotlib.lines.Line2D at 0x153f8d0>]"
      ]
     },
     "execution_count": 15,
     "metadata": {},
     "output_type": "execute_result"
    },
    {
     "data": {
      "image/png": "[encoded data removed]",
      "text/plain": [
       "<Figure size 432x288 with 1 Axes>"
      ]
     },
     "metadata": {
      "needs_background": "light"
     },
     "output_type": "display_data"
    }
   ],
   "source": [
    "plt.plot(train_history)\n",
    "plt.plot(loss_history, 'r')\n",
    "plt.plot(val_history)"
   ]
  },
  {
   "cell_type": "markdown",
   "metadata": {},
   "source": [
    "# Улучшаем процесс тренировки\n",
    "\n",
    "Мы реализуем несколько ключевых оптимизаций, необходимых для тренировки современных нейросетей."
   ]
  },
  {
   "cell_type": "markdown",
   "metadata": {},
   "source": [
    "## Уменьшение скорости обучения (learning rate decay)\n",
    "\n",
    "Одна из необходимых оптимизаций во время тренировки нейронных сетей - постепенное уменьшение скорости обучения по мере тренировки.\n",
    "\n",
    "Один из стандартных методов - уменьшение скорости обучения (learning rate) каждые N эпох на коэффициент d (часто называемый decay). Значения N и d, как всегда, являются гиперпараметрами и должны подбираться на основе эффективности на проверочных данных (validation data). \n",
    "\n",
    "В нашем случае N будет равным 1."
   ]
  },
  {
   "cell_type": "code",
   "execution_count": 5,
   "metadata": {},
   "outputs": [
    {
     "name": "stdout",
     "output_type": "stream",
     "text": [
      "Loss: 2.248713, Train accuracy: 0.196667, val accuracy: 0.206000\n",
      "Loss: 2.227858, Train accuracy: 0.196667, val accuracy: 0.206000\n",
      "Loss: 2.171089, Train accuracy: 0.196667, val accuracy: 0.206000\n",
      "Loss: 2.304736, Train accuracy: 0.196667, val accuracy: 0.206000\n",
      "Loss: 2.195661, Train accuracy: 0.196667, val accuracy: 0.206000\n",
      "Loss: 2.107627, Train accuracy: 0.196667, val accuracy: 0.206000\n",
      "Loss: 2.184680, Train accuracy: 0.196667, val accuracy: 0.206000\n",
      "Loss: 2.196450, Train accuracy: 0.196667, val accuracy: 0.206000\n",
      "Loss: 1.914950, Train accuracy: 0.202556, val accuracy: 0.208000\n",
      "Loss: 2.056419, Train accuracy: 0.230444, val accuracy: 0.234000\n",
      "Loss: 1.888021, Train accuracy: 0.251111, val accuracy: 0.247000\n",
      "Loss: 1.883284, Train accuracy: 0.267556, val accuracy: 0.264000\n",
      "Loss: 1.774430, Train accuracy: 0.276556, val accuracy: 0.274000\n",
      "Loss: 2.250169, Train accuracy: 0.284889, val accuracy: 0.290000\n",
      "Loss: 1.925456, Train accuracy: 0.300444, val accuracy: 0.305000\n",
      "Loss: 1.998265, Train accuracy: 0.333222, val accuracy: 0.335000\n",
      "Loss: 2.103171, Train accuracy: 0.367111, val accuracy: 0.364000\n",
      "Loss: 1.805708, Train accuracy: 0.392111, val accuracy: 0.383000\n",
      "Loss: 1.384638, Train accuracy: 0.410444, val accuracy: 0.397000\n",
      "Loss: 1.951809, Train accuracy: 0.424444, val accuracy: 0.415000\n"
     ]
    }
   ],
   "source": [
    "# TODO Implement learning rate decay inside Trainer.fit method\n",
    "# Decay should happen once per epoch\n",
    "\n",
    "model = TwoLayerNet(n_input = train_X.shape[1], n_output = 10, hidden_layer_size = 100, reg = 1e-3)\n",
    "dataset = Dataset(train_X, train_y, val_X, val_y)\n",
    "trainer = Trainer(model, dataset, SGD(), learning_rate_decay=0.99)\n",
    "\n",
    "initial_learning_rate = trainer.learning_rate\n",
    "loss_history, train_history, val_history = trainer.fit()\n",
    "\n",
    "assert trainer.learning_rate < initial_learning_rate, \"Learning rate should've been reduced\"\n",
    "assert trainer.learning_rate > 0.5*initial_learning_rate, \"Learning rate shouldn'tve been reduced that much!\""
   ]
  },
  {
   "cell_type": "code",
   "execution_count": 6,
   "metadata": {},
   "outputs": [
    {
     "data": {
      "text/plain": [
       "[<matplotlib.lines.Line2D at 0xc18750>]"
      ]
     },
     "execution_count": 6,
     "metadata": {},
     "output_type": "execute_result"
    },
    {
     "data": {
      "image/png": "[encoded data removed]",
      "text/plain": [
       "<Figure size 432x288 with 1 Axes>"
      ]
     },
     "metadata": {
      "needs_background": "light"
     },
     "output_type": "display_data"
    }
   ],
   "source": [
    "plt.plot(train_history)\n",
    "plt.plot(loss_history, 'r')\n",
    "plt.plot(val_history)"
   ]
  },
  {
   "cell_type": "markdown",
   "metadata": {},
   "source": [
    "# Накопление импульса (Momentum SGD)\n",
    "\n",
    "Другой большой класс оптимизаций - использование более эффективных методов градиентного спуска. Мы реализуем один из них - накопление импульса (Momentum SGD).\n",
    "\n",
    "Этот метод хранит скорость движения, использует градиент для ее изменения на каждом шаге, и изменяет веса пропорционально значению скорости.\n",
    "(Физическая аналогия: Вместо скорости градиенты теперь будут задавать ускорение, но будет присутствовать сила трения.)\n",
    "\n",
    "```\n",
    "velocity = momentum * velocity - learning_rate * gradient \n",
    "w = w + velocity\n",
    "```\n",
    "\n",
    "`momentum` здесь коэффициент затухания, который тоже является гиперпараметром (к счастью, для него часто есть хорошее значение по умолчанию, типичный диапазон -- 0.8-0.99).\n",
    "\n",
    "Несколько полезных ссылок, где метод разбирается более подробно:  \n",
    "http://cs231n.github.io/neural-networks-3/#sgd  \n",
    "https://distill.pub/2017/momentum/"
   ]
  },
  {
   "cell_type": "code",
   "execution_count": 10,
   "metadata": {},
   "outputs": [
    {
     "name": "stdout",
     "output_type": "stream",
     "text": [
      "Loss: 2.070810, Train accuracy: 0.196667, val accuracy: 0.206000\n",
      "Loss: 2.144149, Train accuracy: 0.293667, val accuracy: 0.292000\n",
      "Loss: 1.856743, Train accuracy: 0.383444, val accuracy: 0.387000\n",
      "Loss: 1.947727, Train accuracy: 0.500222, val accuracy: 0.504000\n",
      "Loss: 1.679772, Train accuracy: 0.547000, val accuracy: 0.557000\n",
      "Loss: 1.907754, Train accuracy: 0.569556, val accuracy: 0.576000\n",
      "Loss: 1.937333, Train accuracy: 0.553444, val accuracy: 0.563000\n",
      "Loss: 1.983326, Train accuracy: 0.612667, val accuracy: 0.608000\n",
      "Loss: 2.055178, Train accuracy: 0.590222, val accuracy: 0.592000\n",
      "Loss: 1.755908, Train accuracy: 0.611000, val accuracy: 0.617000\n",
      "Loss: 1.859982, Train accuracy: 0.621222, val accuracy: 0.617000\n",
      "Loss: 1.730902, Train accuracy: 0.621333, val accuracy: 0.607000\n",
      "Loss: 1.998518, Train accuracy: 0.633444, val accuracy: 0.623000\n",
      "Loss: 1.826878, Train accuracy: 0.635111, val accuracy: 0.614000\n",
      "Loss: 1.957510, Train accuracy: 0.607000, val accuracy: 0.600000\n",
      "Loss: 1.755878, Train accuracy: 0.642222, val accuracy: 0.634000\n",
      "Loss: 1.768191, Train accuracy: 0.594111, val accuracy: 0.583000\n",
      "Loss: 1.845851, Train accuracy: 0.624556, val accuracy: 0.635000\n",
      "Loss: 1.743288, Train accuracy: 0.616667, val accuracy: 0.614000\n",
      "Loss: 1.671035, Train accuracy: 0.634889, val accuracy: 0.636000\n"
     ]
    }
   ],
   "source": [
    "# TODO: Implement MomentumSGD.update function in optim.py\n",
    "\n",
    "model = TwoLayerNet(n_input = train_X.shape[1], n_output = 10, hidden_layer_size = 100, reg = 1e-2)\n",
    "dataset = Dataset(train_X, train_y, val_X, val_y)\n",
    "trainer = Trainer(model, dataset, MomentumSGD(), learning_rate=1e-2, learning_rate_decay=0.99)\n",
    "\n",
    "# You should see even better results than before!\n",
    "loss_history, train_history, val_history = trainer.fit()"
   ]
  },
  {
   "cell_type": "code",
   "execution_count": 11,
   "metadata": {},
   "outputs": [
    {
     "data": {
      "text/plain": [
       "[<matplotlib.lines.Line2D at 0x10c9470>]"
      ]
     },
     "execution_count": 11,
     "metadata": {},
     "output_type": "execute_result"
    },
    {
     "data": {
      "image/png": "[encoded data removed]",
      "text/plain": [
       "<Figure size 432x288 with 1 Axes>"
      ]
     },
     "metadata": {
      "needs_background": "light"
     },
     "output_type": "display_data"
    }
   ],
   "source": [
    "plt.plot(train_history)\n",
    "plt.plot(loss_history, 'r')\n",
    "plt.plot(val_history)"
   ]
  },
  {
   "cell_type": "markdown",
   "metadata": {},
   "source": [
    "# Ну что, давайте уже тренировать сеть!"
   ]
  },
  {
   "cell_type": "markdown",
   "metadata": {},
   "source": [
    "## Последний тест - переобучимся (overfit) на маленьком наборе данных\n",
    "\n",
    "Хороший способ проверить, все ли реализовано корректно - переобучить сеть на маленьком наборе данных.  \n",
    "Наша модель обладает достаточной мощностью, чтобы приблизить маленький набор данных идеально, поэтому мы ожидаем, что на нем мы быстро дойдем до 100% точности на тренировочном наборе. \n",
    "\n",
    "Если этого не происходит, то где-то была допущена ошибка!"
   ]
  },
  {
   "cell_type": "code",
   "execution_count": 12,
   "metadata": {},
   "outputs": [
    {
     "name": "stdout",
     "output_type": "stream",
     "text": [
      "Loss: 2.335174, Train accuracy: 0.200000, val accuracy: 0.066667\n",
      "Loss: 2.335194, Train accuracy: 0.200000, val accuracy: 0.066667\n",
      "Loss: 2.321831, Train accuracy: 0.266667, val accuracy: 0.066667\n",
      "Loss: 2.295172, Train accuracy: 0.200000, val accuracy: 0.133333\n",
      "Loss: 2.316578, Train accuracy: 0.200000, val accuracy: 0.133333\n",
      "Loss: 2.287442, Train accuracy: 0.200000, val accuracy: 0.133333\n",
      "Loss: 2.260921, Train accuracy: 0.200000, val accuracy: 0.066667\n",
      "Loss: 2.302218, Train accuracy: 0.266667, val accuracy: 0.000000\n",
      "Loss: 2.190905, Train accuracy: 0.400000, val accuracy: 0.000000\n",
      "Loss: 2.095873, Train accuracy: 0.400000, val accuracy: 0.000000\n",
      "Loss: 2.079393, Train accuracy: 0.400000, val accuracy: 0.000000\n",
      "Loss: 2.126004, Train accuracy: 0.400000, val accuracy: 0.000000\n",
      "Loss: 2.181915, Train accuracy: 0.333333, val accuracy: 0.000000\n",
      "Loss: 2.242080, Train accuracy: 0.400000, val accuracy: 0.000000\n",
      "Loss: 1.672760, Train accuracy: 0.333333, val accuracy: 0.000000\n",
      "Loss: 2.023355, Train accuracy: 0.400000, val accuracy: 0.000000\n",
      "Loss: 1.412739, Train accuracy: 0.333333, val accuracy: 0.000000\n",
      "Loss: 1.963836, Train accuracy: 0.400000, val accuracy: 0.000000\n",
      "Loss: 1.808055, Train accuracy: 0.400000, val accuracy: 0.000000\n",
      "Loss: 1.499264, Train accuracy: 0.400000, val accuracy: 0.000000\n",
      "Loss: 2.130754, Train accuracy: 0.400000, val accuracy: 0.000000\n",
      "Loss: 2.322530, Train accuracy: 0.466667, val accuracy: 0.000000\n",
      "Loss: 1.563520, Train accuracy: 0.400000, val accuracy: 0.000000\n",
      "Loss: 1.755230, Train accuracy: 0.400000, val accuracy: 0.066667\n",
      "Loss: 1.513674, Train accuracy: 0.466667, val accuracy: 0.066667\n",
      "Loss: 1.570404, Train accuracy: 0.466667, val accuracy: 0.000000\n",
      "Loss: 1.993363, Train accuracy: 0.466667, val accuracy: 0.066667\n",
      "Loss: 1.845179, Train accuracy: 0.466667, val accuracy: 0.000000\n",
      "Loss: 1.788062, Train accuracy: 0.466667, val accuracy: 0.066667\n",
      "Loss: 1.995073, Train accuracy: 0.466667, val accuracy: 0.066667\n",
      "Loss: 1.902611, Train accuracy: 0.466667, val accuracy: 0.000000\n",
      "Loss: 1.313177, Train accuracy: 0.533333, val accuracy: 0.000000\n",
      "Loss: 1.770989, Train accuracy: 0.600000, val accuracy: 0.066667\n",
      "Loss: 1.725604, Train accuracy: 0.533333, val accuracy: 0.066667\n",
      "Loss: 1.711354, Train accuracy: 0.600000, val accuracy: 0.066667\n",
      "Loss: 1.474917, Train accuracy: 0.533333, val accuracy: 0.066667\n",
      "Loss: 2.242282, Train accuracy: 0.666667, val accuracy: 0.066667\n",
      "Loss: 1.498350, Train accuracy: 0.666667, val accuracy: 0.000000\n",
      "Loss: 1.534560, Train accuracy: 0.666667, val accuracy: 0.000000\n",
      "Loss: 1.767917, Train accuracy: 0.666667, val accuracy: 0.066667\n",
      "Loss: 1.943374, Train accuracy: 0.733333, val accuracy: 0.066667\n",
      "Loss: 1.444527, Train accuracy: 0.733333, val accuracy: 0.133333\n",
      "Loss: 1.124090, Train accuracy: 0.666667, val accuracy: 0.066667\n",
      "Loss: 1.618844, Train accuracy: 0.733333, val accuracy: 0.133333\n",
      "Loss: 1.667424, Train accuracy: 0.733333, val accuracy: 0.066667\n",
      "Loss: 1.567727, Train accuracy: 0.666667, val accuracy: 0.000000\n",
      "Loss: 0.772390, Train accuracy: 0.666667, val accuracy: 0.066667\n",
      "Loss: 1.217777, Train accuracy: 0.666667, val accuracy: 0.066667\n",
      "Loss: 1.601202, Train accuracy: 0.733333, val accuracy: 0.066667\n",
      "Loss: 1.480206, Train accuracy: 0.733333, val accuracy: 0.066667\n",
      "Loss: 1.640894, Train accuracy: 0.733333, val accuracy: 0.066667\n",
      "Loss: 1.575866, Train accuracy: 0.733333, val accuracy: 0.066667\n",
      "Loss: 1.636172, Train accuracy: 0.733333, val accuracy: 0.133333\n",
      "Loss: 1.337491, Train accuracy: 0.733333, val accuracy: 0.000000\n",
      "Loss: 1.888601, Train accuracy: 0.733333, val accuracy: 0.066667\n",
      "Loss: 1.686054, Train accuracy: 0.733333, val accuracy: 0.066667\n",
      "Loss: 1.970868, Train accuracy: 0.800000, val accuracy: 0.000000\n",
      "Loss: 1.255818, Train accuracy: 0.733333, val accuracy: 0.066667\n",
      "Loss: 1.527668, Train accuracy: 0.800000, val accuracy: 0.066667\n",
      "Loss: 1.564002, Train accuracy: 0.800000, val accuracy: 0.066667\n",
      "Loss: 0.997879, Train accuracy: 0.733333, val accuracy: 0.066667\n",
      "Loss: 1.432383, Train accuracy: 0.800000, val accuracy: 0.066667\n",
      "Loss: 0.957793, Train accuracy: 0.733333, val accuracy: 0.066667\n",
      "Loss: 0.949492, Train accuracy: 0.800000, val accuracy: 0.066667\n",
      "Loss: 1.662364, Train accuracy: 0.800000, val accuracy: 0.066667\n",
      "Loss: 1.692911, Train accuracy: 0.800000, val accuracy: 0.066667\n",
      "Loss: 0.968107, Train accuracy: 0.800000, val accuracy: 0.066667\n",
      "Loss: 1.008685, Train accuracy: 0.800000, val accuracy: 0.066667\n",
      "Loss: 1.576564, Train accuracy: 0.800000, val accuracy: 0.066667\n",
      "Loss: 1.663873, Train accuracy: 0.800000, val accuracy: 0.066667\n",
      "Loss: 1.701186, Train accuracy: 0.800000, val accuracy: 0.066667\n",
      "Loss: 1.605039, Train accuracy: 0.800000, val accuracy: 0.066667\n",
      "Loss: 0.973443, Train accuracy: 0.800000, val accuracy: 0.066667\n",
      "Loss: 1.265327, Train accuracy: 0.800000, val accuracy: 0.066667\n",
      "Loss: 1.357330, Train accuracy: 0.800000, val accuracy: 0.066667\n",
      "Loss: 1.677907, Train accuracy: 0.800000, val accuracy: 0.066667\n",
      "Loss: 1.288907, Train accuracy: 0.866667, val accuracy: 0.066667\n",
      "Loss: 1.417976, Train accuracy: 0.866667, val accuracy: 0.066667\n",
      "Loss: 1.300686, Train accuracy: 0.866667, val accuracy: 0.066667\n",
      "Loss: 1.682972, Train accuracy: 0.866667, val accuracy: 0.066667\n",
      "Loss: 0.953413, Train accuracy: 0.866667, val accuracy: 0.066667\n",
      "Loss: 1.723682, Train accuracy: 0.866667, val accuracy: 0.066667\n",
      "Loss: 1.557694, Train accuracy: 0.866667, val accuracy: 0.066667\n",
      "Loss: 1.013361, Train accuracy: 0.866667, val accuracy: 0.066667\n",
      "Loss: 1.608538, Train accuracy: 0.866667, val accuracy: 0.066667\n",
      "Loss: 1.227848, Train accuracy: 0.866667, val accuracy: 0.066667\n",
      "Loss: 1.510763, Train accuracy: 0.866667, val accuracy: 0.066667\n",
      "Loss: 1.295530, Train accuracy: 0.866667, val accuracy: 0.066667\n",
      "Loss: 1.245620, Train accuracy: 0.866667, val accuracy: 0.066667\n",
      "Loss: 1.610298, Train accuracy: 0.866667, val accuracy: 0.066667\n",
      "Loss: 1.637486, Train accuracy: 0.866667, val accuracy: 0.066667\n",
      "Loss: 1.727393, Train accuracy: 0.866667, val accuracy: 0.066667\n",
      "Loss: 0.922501, Train accuracy: 0.866667, val accuracy: 0.066667\n",
      "Loss: 1.309624, Train accuracy: 0.866667, val accuracy: 0.066667\n",
      "Loss: 1.717627, Train accuracy: 0.866667, val accuracy: 0.066667\n",
      "Loss: 1.096116, Train accuracy: 0.866667, val accuracy: 0.066667\n",
      "Loss: 1.231512, Train accuracy: 0.866667, val accuracy: 0.066667\n",
      "Loss: 1.182151, Train accuracy: 0.866667, val accuracy: 0.066667\n",
      "Loss: 1.341800, Train accuracy: 0.866667, val accuracy: 0.066667\n",
      "Loss: 1.113775, Train accuracy: 0.866667, val accuracy: 0.066667\n",
      "Loss: 1.523797, Train accuracy: 0.866667, val accuracy: 0.066667\n",
      "Loss: 1.611191, Train accuracy: 0.866667, val accuracy: 0.066667\n",
      "Loss: 1.397068, Train accuracy: 0.866667, val accuracy: 0.000000\n",
      "Loss: 1.494938, Train accuracy: 0.866667, val accuracy: 0.000000\n",
      "Loss: 1.392716, Train accuracy: 0.866667, val accuracy: 0.000000\n",
      "Loss: 1.227566, Train accuracy: 0.866667, val accuracy: 0.000000\n",
      "Loss: 1.067242, Train accuracy: 0.866667, val accuracy: 0.000000\n",
      "Loss: 1.059030, Train accuracy: 0.866667, val accuracy: 0.000000\n",
      "Loss: 1.335735, Train accuracy: 0.866667, val accuracy: 0.000000\n",
      "Loss: 1.034656, Train accuracy: 0.866667, val accuracy: 0.000000\n",
      "Loss: 1.429705, Train accuracy: 0.866667, val accuracy: 0.000000\n",
      "Loss: 1.462563, Train accuracy: 0.866667, val accuracy: 0.000000\n",
      "Loss: 1.138144, Train accuracy: 0.866667, val accuracy: 0.000000\n",
      "Loss: 1.007003, Train accuracy: 0.866667, val accuracy: 0.000000\n",
      "Loss: 1.349333, Train accuracy: 0.866667, val accuracy: 0.000000\n",
      "Loss: 1.210701, Train accuracy: 0.933333, val accuracy: 0.000000\n",
      "Loss: 1.496968, Train accuracy: 0.933333, val accuracy: 0.000000\n",
      "Loss: 1.403426, Train accuracy: 0.866667, val accuracy: 0.000000\n",
      "Loss: 1.038482, Train accuracy: 0.866667, val accuracy: 0.000000\n",
      "Loss: 1.258189, Train accuracy: 0.933333, val accuracy: 0.000000\n",
      "Loss: 1.269612, Train accuracy: 0.933333, val accuracy: 0.000000\n",
      "Loss: 1.026796, Train accuracy: 0.933333, val accuracy: 0.000000\n",
      "Loss: 1.355022, Train accuracy: 0.933333, val accuracy: 0.000000\n",
      "Loss: 1.292634, Train accuracy: 0.933333, val accuracy: 0.000000\n",
      "Loss: 1.150678, Train accuracy: 0.933333, val accuracy: 0.000000\n",
      "Loss: 1.340298, Train accuracy: 0.933333, val accuracy: 0.000000\n",
      "Loss: 1.201835, Train accuracy: 0.933333, val accuracy: 0.000000\n",
      "Loss: 1.323508, Train accuracy: 0.933333, val accuracy: 0.000000\n",
      "Loss: 1.373845, Train accuracy: 0.866667, val accuracy: 0.000000\n",
      "Loss: 1.553910, Train accuracy: 0.933333, val accuracy: 0.000000\n",
      "Loss: 1.719122, Train accuracy: 0.933333, val accuracy: 0.000000\n",
      "Loss: 1.258415, Train accuracy: 0.933333, val accuracy: 0.000000\n",
      "Loss: 1.244061, Train accuracy: 0.866667, val accuracy: 0.000000\n",
      "Loss: 1.173645, Train accuracy: 0.933333, val accuracy: 0.000000\n",
      "Loss: 1.224210, Train accuracy: 0.933333, val accuracy: 0.000000\n",
      "Loss: 1.116164, Train accuracy: 0.933333, val accuracy: 0.000000\n",
      "Loss: 1.297861, Train accuracy: 1.000000, val accuracy: 0.000000\n",
      "Loss: 1.291409, Train accuracy: 1.000000, val accuracy: 0.000000\n",
      "Loss: 1.279128, Train accuracy: 1.000000, val accuracy: 0.000000\n",
      "Loss: 1.386101, Train accuracy: 1.000000, val accuracy: 0.000000\n",
      "Loss: 1.377177, Train accuracy: 1.000000, val accuracy: 0.000000\n",
      "Loss: 1.240036, Train accuracy: 1.000000, val accuracy: 0.000000\n",
      "Loss: 1.297248, Train accuracy: 1.000000, val accuracy: 0.000000\n",
      "Loss: 1.236467, Train accuracy: 1.000000, val accuracy: 0.000000\n",
      "Loss: 1.247514, Train accuracy: 1.000000, val accuracy: 0.000000\n",
      "Loss: 1.413660, Train accuracy: 1.000000, val accuracy: 0.000000\n",
      "Loss: 1.406241, Train accuracy: 1.000000, val accuracy: 0.000000\n",
      "Loss: 1.131908, Train accuracy: 1.000000, val accuracy: 0.000000\n",
      "Loss: 1.529682, Train accuracy: 1.000000, val accuracy: 0.000000\n",
      "Loss: 1.112724, Train accuracy: 1.000000, val accuracy: 0.000000\n"
     ]
    }
   ],
   "source": [
    "data_size = 15\n",
    "model = TwoLayerNet(n_input = train_X.shape[1], n_output = 10, hidden_layer_size = 100, reg = 1e-1)\n",
    "dataset = Dataset(train_X[:data_size], train_y[:data_size], val_X[:data_size], val_y[:data_size])\n",
    "trainer = Trainer(model, dataset, SGD(), learning_rate=1e-1, num_epochs=150, batch_size=5)\n",
    "\n",
    "# You should expect this to reach 1.0 training accuracy \n",
    "loss_history, train_history, val_history = trainer.fit()"
   ]
  },
  {
   "cell_type": "markdown",
   "metadata": {},
   "source": [
    "Теперь найдем гипепараметры, для которых этот процесс сходится быстрее.\n",
    "Если все реализовано корректно, то существуют параметры, при которых процесс сходится в **20** эпох или еще быстрее.\n",
    "Найдите их!"
   ]
  },
  {
   "cell_type": "code",
   "execution_count": 25,
   "metadata": {},
   "outputs": [
    {
     "name": "stdout",
     "output_type": "stream",
     "text": [
      "Loss: 2.365460, Train accuracy: 0.200000, val accuracy: 0.133333\n",
      "Loss: 2.213927, Train accuracy: 0.200000, val accuracy: 0.133333\n",
      "Loss: 2.287396, Train accuracy: 0.200000, val accuracy: 0.133333\n",
      "Loss: 2.302745, Train accuracy: 0.333333, val accuracy: 0.066667\n",
      "Loss: 1.874497, Train accuracy: 0.333333, val accuracy: 0.000000\n",
      "Loss: 3.406815, Train accuracy: 0.266667, val accuracy: 0.066667\n",
      "Loss: 2.423501, Train accuracy: 0.266667, val accuracy: 0.066667\n",
      "Loss: 1.936065, Train accuracy: 0.466667, val accuracy: 0.000000\n",
      "Loss: 2.460902, Train accuracy: 0.400000, val accuracy: 0.000000\n",
      "Loss: 1.205567, Train accuracy: 0.466667, val accuracy: 0.000000\n",
      "Loss: 2.391299, Train accuracy: 0.533333, val accuracy: 0.000000\n",
      "Loss: 0.532643, Train accuracy: 0.533333, val accuracy: 0.066667\n",
      "Loss: 0.173057, Train accuracy: 0.600000, val accuracy: 0.000000\n",
      "Loss: 2.279691, Train accuracy: 0.666667, val accuracy: 0.066667\n",
      "Loss: 1.564361, Train accuracy: 0.600000, val accuracy: 0.133333\n",
      "Loss: 0.857560, Train accuracy: 0.800000, val accuracy: 0.133333\n",
      "Loss: 0.038677, Train accuracy: 0.800000, val accuracy: 0.066667\n",
      "Loss: 1.253762, Train accuracy: 0.866667, val accuracy: 0.066667\n",
      "Loss: 0.103820, Train accuracy: 0.933333, val accuracy: 0.066667\n",
      "Loss: 0.952508, Train accuracy: 1.000000, val accuracy: 0.066667\n"
     ]
    }
   ],
   "source": [
    "# Now, tweak some hyper parameters and make it train to 1.0 accuracy in 20 epochs or less\n",
    "\n",
    "model = TwoLayerNet(n_input = train_X.shape[1], n_output = 10, hidden_layer_size = 100, reg = 2e-4)\n",
    "dataset = Dataset(train_X[:data_size], train_y[:data_size], val_X[:data_size], val_y[:data_size])\n",
    "# TODO: Change any hyperparamers or optimizators to reach training accuracy in 20 epochs\n",
    "trainer = Trainer(model, dataset, SGD(), learning_rate=0.9e-1, num_epochs=20, batch_size=2)\n",
    "\n",
    "loss_history, train_history, val_history = trainer.fit()"
   ]
  },
  {
   "cell_type": "markdown",
   "metadata": {},
   "source": [
    "# Итак, основное мероприятие!\n",
    "\n",
    "Натренируйте лучшую нейросеть! Можно добавлять и изменять параметры, менять количество нейронов в слоях сети и как угодно экспериментировать. \n",
    "\n",
    "Добейтесь точности лучше **60%** на validation set."
   ]
  },
  {
   "cell_type": "code",
   "execution_count": 30,
   "metadata": {
    "scrolled": true
   },
   "outputs": [
    {
     "name": "stdout",
     "output_type": "stream",
     "text": [
      "Loss: 2.386090, Train accuracy: 0.196667, val accuracy: 0.206000\n",
      "Loss: 2.364422, Train accuracy: 0.172333, val accuracy: 0.177000\n",
      "Loss: 2.233096, Train accuracy: 0.195444, val accuracy: 0.205000\n",
      "Loss: 2.256172, Train accuracy: 0.206889, val accuracy: 0.212000\n",
      "Loss: 2.351534, Train accuracy: 0.256778, val accuracy: 0.264000\n",
      "Loss: 1.865588, Train accuracy: 0.301000, val accuracy: 0.309000\n",
      "Loss: 1.729585, Train accuracy: 0.383111, val accuracy: 0.373000\n",
      "Loss: 1.686866, Train accuracy: 0.443667, val accuracy: 0.443000\n",
      "Loss: 1.434292, Train accuracy: 0.519333, val accuracy: 0.506000\n",
      "Loss: 1.179981, Train accuracy: 0.561444, val accuracy: 0.555000\n",
      "Loss: 1.295742, Train accuracy: 0.603444, val accuracy: 0.592000\n",
      "Loss: 1.270190, Train accuracy: 0.633111, val accuracy: 0.626000\n",
      "Loss: 1.331880, Train accuracy: 0.666444, val accuracy: 0.661000\n",
      "Loss: 1.421868, Train accuracy: 0.670333, val accuracy: 0.659000\n",
      "Loss: 1.534901, Train accuracy: 0.684000, val accuracy: 0.668000\n",
      "Loss: 1.253131, Train accuracy: 0.706222, val accuracy: 0.684000\n",
      "Loss: 1.110374, Train accuracy: 0.711778, val accuracy: 0.679000\n",
      "Loss: 0.952874, Train accuracy: 0.726889, val accuracy: 0.695000\n",
      "Loss: 0.857715, Train accuracy: 0.736111, val accuracy: 0.697000\n",
      "Loss: 0.866270, Train accuracy: 0.735556, val accuracy: 0.700000\n",
      "Loss: 1.177370, Train accuracy: 0.752000, val accuracy: 0.719000\n",
      "Loss: 1.054084, Train accuracy: 0.760333, val accuracy: 0.709000\n",
      "Loss: 0.983221, Train accuracy: 0.764667, val accuracy: 0.713000\n",
      "Loss: 1.197024, Train accuracy: 0.767444, val accuracy: 0.721000\n",
      "Loss: 1.049275, Train accuracy: 0.764778, val accuracy: 0.718000\n",
      "Loss: 0.719777, Train accuracy: 0.781333, val accuracy: 0.717000\n",
      "Loss: 0.783757, Train accuracy: 0.781444, val accuracy: 0.723000\n",
      "Loss: 0.935379, Train accuracy: 0.786111, val accuracy: 0.724000\n",
      "Loss: 0.884212, Train accuracy: 0.786333, val accuracy: 0.727000\n",
      "Loss: 0.958467, Train accuracy: 0.790778, val accuracy: 0.718000\n",
      "Loss: 0.898621, Train accuracy: 0.808444, val accuracy: 0.746000\n",
      "Loss: 1.064021, Train accuracy: 0.791889, val accuracy: 0.729000\n",
      "Loss: 0.747098, Train accuracy: 0.803889, val accuracy: 0.732000\n",
      "Loss: 0.775081, Train accuracy: 0.820556, val accuracy: 0.735000\n",
      "Loss: 0.837836, Train accuracy: 0.818556, val accuracy: 0.741000\n",
      "Loss: 0.832276, Train accuracy: 0.824444, val accuracy: 0.744000\n",
      "Loss: 0.823114, Train accuracy: 0.824556, val accuracy: 0.744000\n",
      "Loss: 0.859393, Train accuracy: 0.828556, val accuracy: 0.746000\n",
      "Loss: 0.745018, Train accuracy: 0.826111, val accuracy: 0.752000\n",
      "Loss: 0.628020, Train accuracy: 0.825889, val accuracy: 0.754000\n",
      "Loss: 0.801787, Train accuracy: 0.838111, val accuracy: 0.747000\n",
      "Loss: 0.668614, Train accuracy: 0.841222, val accuracy: 0.756000\n",
      "Loss: 0.659549, Train accuracy: 0.844333, val accuracy: 0.759000\n",
      "Loss: 0.958118, Train accuracy: 0.844889, val accuracy: 0.754000\n",
      "Loss: 0.944483, Train accuracy: 0.849333, val accuracy: 0.761000\n",
      "Loss: 0.900917, Train accuracy: 0.857111, val accuracy: 0.767000\n",
      "Loss: 1.006073, Train accuracy: 0.857444, val accuracy: 0.759000\n",
      "Loss: 0.964001, Train accuracy: 0.857111, val accuracy: 0.767000\n",
      "Loss: 0.870524, Train accuracy: 0.856556, val accuracy: 0.762000\n",
      "Loss: 0.920747, Train accuracy: 0.859778, val accuracy: 0.770000\n",
      "Loss: 0.612897, Train accuracy: 0.865889, val accuracy: 0.768000\n",
      "Loss: 0.844474, Train accuracy: 0.866000, val accuracy: 0.767000\n",
      "Loss: 0.873884, Train accuracy: 0.864333, val accuracy: 0.759000\n",
      "Loss: 0.856193, Train accuracy: 0.867222, val accuracy: 0.768000\n",
      "Loss: 0.811800, Train accuracy: 0.872444, val accuracy: 0.763000\n",
      "Loss: 0.752471, Train accuracy: 0.871444, val accuracy: 0.769000\n",
      "Loss: 0.707349, Train accuracy: 0.876000, val accuracy: 0.762000\n",
      "Loss: 0.819968, Train accuracy: 0.865778, val accuracy: 0.751000\n",
      "Loss: 0.917196, Train accuracy: 0.876000, val accuracy: 0.765000\n",
      "Loss: 0.788331, Train accuracy: 0.878889, val accuracy: 0.771000\n"
     ]
    }
   ],
   "source": [
    "# Let's train the best one-hidden-layer network we can\n",
    "\n",
    "learning_rates = 1e-2\n",
    "reg_strength = 1e-3\n",
    "learning_rate_decay = 0.99\n",
    "hidden_layer_size = 128\n",
    "num_epochs = 60\n",
    "batch_size = 64\n",
    "\n",
    "best_classifier = None\n",
    "best_val_accuracy = None\n",
    "\n",
    "loss_history = []\n",
    "train_history = []\n",
    "val_history = []\n",
    "dataset = Dataset(train_X, train_y, val_X, val_y)\n",
    "model = TwoLayerNet(n_input = train_X.shape[1], n_output = 25, \n",
    "                                        hidden_layer_size = hidden_layer_size, \n",
    "                                        reg = reg_strength)\n",
    "\n",
    "trainer = Trainer(model, dataset, MomentumSGD(), \n",
    "                                      num_epochs = num_epochs, \n",
    "                                      batch_size = batch_size, \n",
    "                                      learning_rate = learning_rates, \n",
    "                                      learning_rate_decay = learning_rate_decay)\n",
    "loss_history, train_history, val_history = trainer.fit()\n",
    "best_classifier = model\n",
    "# TODO find the best hyperparameters to train the network\n",
    "# Don't hesitate to add new values to the arrays above, perform experiments, use any tricks you want\n",
    "# You should expect to get to at least 40% of valudation accuracy\n",
    "# Save loss/train/history of the best classifier to the variables above\n"
   ]
  },
  {
   "cell_type": "code",
   "execution_count": 31,
   "metadata": {},
   "outputs": [
    {
     "name": "stdout",
     "output_type": "stream",
     "text": [
      "best validation accuracy achieved: 0.771000\n"
     ]
    }
   ],
   "source": [
    "print('best validation accuracy achieved: %f' % max(val_history))"
   ]
  },
  {
   "cell_type": "code",
   "execution_count": 32,
   "metadata": {},
   "outputs": [
    {
     "data": {
      "text/plain": [
       "[<matplotlib.lines.Line2D at 0x125ff10>]"
      ]
     },
     "execution_count": 32,
     "metadata": {},
     "output_type": "execute_result"
    },
    {
     "data": {
      "image/png": "[encoded data removed]",
      "text/plain": [
       "<Figure size 1080x504 with 2 Axes>"
      ]
     },
     "metadata": {
      "needs_background": "light"
     },
     "output_type": "display_data"
    }
   ],
   "source": [
    "plt.figure(figsize=(15, 7))\n",
    "plt.subplot(211)\n",
    "plt.title(\"Loss\")\n",
    "plt.plot(loss_history)\n",
    "plt.subplot(212)\n",
    "plt.title(\"Train/validation accuracy\")\n",
    "plt.plot(train_history)\n",
    "plt.plot(val_history)"
   ]
  },
  {
   "cell_type": "markdown",
   "metadata": {},
   "source": [
    "# Как обычно, посмотрим, как наша лучшая модель работает на тестовых данных"
   ]
  },
  {
   "cell_type": "code",
   "execution_count": 33,
   "metadata": {},
   "outputs": [
    {
     "name": "stdout",
     "output_type": "stream",
     "text": [
      "Neural net test set accuracy: 0.734000\n"
     ]
    }
   ],
   "source": [
    "test_pred = best_classifier.predict(test_X)\n",
    "test_accuracy = multiclass_accuracy(test_pred, test_y)\n",
    "print('Neural net test set accuracy: %f' % (test_accuracy, ))"
   ]
  },
  {
   "cell_type": "code",
   "execution_count": null,
   "metadata": {},
   "outputs": [],
   "source": []
  }
 ],
 "metadata": {
  "kernelspec": {
   "display_name": "Python 3",
   "language": "python",
   "name": "python3"
  },
  "language_info": {
   "codemirror_mode": {
    "name": "ipython",
    "version": 3
   },
   "file_extension": ".py",
   "mimetype": "text/x-python",
   "name": "python",
   "nbconvert_exporter": "python",
   "pygments_lexer": "ipython3",
   "version": "3.6.8"
  }
 },
 "nbformat": 4,
 "nbformat_minor": 4
}
