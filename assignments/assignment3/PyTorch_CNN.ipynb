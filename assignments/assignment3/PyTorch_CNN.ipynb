{
 "cells": [
  {
   "cell_type": "markdown",
   "metadata": {
    "id": "Drzm1vhGtrMa"
   },
   "source": [
    "# Задание 3.2 - сверточные нейронные сети (CNNs) в PyTorch\n",
    "\n",
    "Это упражнение мы буде выполнять в Google Colab - https://colab.research.google.com/  \n",
    "Google Colab позволяет запускать код в notebook в облаке Google, где можно воспользоваться бесплатным GPU!  \n",
    "\n",
    "Авторы курса благодарят компанию Google и надеятся, что праздник не закончится.\n",
    "\n",
    "Туториал по настройке Google Colab:  \n",
    "https://medium.com/deep-learning-turkey/google-colab-free-gpu-tutorial-e113627b9f5d  \n",
    "(Keras инсталлировать не нужно, наш notebook сам установит PyTorch)\n"
   ]
  },
  {
   "cell_type": "code",
   "execution_count": 1,
   "metadata": {
    "colab": {
     "base_uri": "https://localhost:8080/"
    },
    "id": "FcXBeP1O7cnY",
    "outputId": "8689e348-3dc1-414d-e936-17d744d9941d"
   },
   "outputs": [
    {
     "name": "stdout",
     "output_type": "stream",
     "text": [
      "Requirement already satisfied: torch in c:\\users\\степан\\appdata\\local\\programs\\python\\python39\\lib\\site-packages (1.8.1+cu111)\n",
      "Requirement already satisfied: torchvision in c:\\users\\степан\\appdata\\local\\programs\\python\\python39\\lib\\site-packages (0.9.1+cu111)\n",
      "Requirement already satisfied: numpy in c:\\users\\степан\\appdata\\local\\programs\\python\\python39\\lib\\site-packages (from torch) (1.20.2)\n",
      "Requirement already satisfied: typing-extensions in c:\\users\\степан\\appdata\\local\\programs\\python\\python39\\lib\\site-packages (from torch) (3.7.4.3)\n",
      "Requirement already satisfied: pillow>=4.1.1 in c:\\users\\степан\\appdata\\local\\programs\\python\\python39\\lib\\site-packages (from torchvision) (8.2.0)\n",
      "Requirement already satisfied: wget in c:\\users\\степан\\appdata\\local\\programs\\python\\python39\\lib\\site-packages (3.2)\n",
      "100% [........................................................................] 64275384 / 64275384"
     ]
    },
    {
     "data": {
      "text/plain": [
       "'test_32x32 (1).mat'"
      ]
     },
     "execution_count": 1,
     "metadata": {},
     "output_type": "execute_result"
    }
   ],
   "source": [
    "# Intstall PyTorch and download data\n",
    "!pip3 install torch torchvision\n",
    "\n",
    "#!pip install wget \n",
    "#import wget\n",
    "#wget.download(\"http://ufldl.stanford.edu/housenumbers/train_32x32.mat\")\n",
    "#wget.download(\"http://ufldl.stanford.edu/housenumbers/test_32x32.mat\")"
   ]
  },
  {
   "cell_type": "code",
   "execution_count": 2,
   "metadata": {
    "id": "-afwWw-Q85vD"
   },
   "outputs": [],
   "source": [
    "from collections import namedtuple\n",
    "\n",
    "import matplotlib.pyplot as plt\n",
    "import numpy as np\n",
    "import PIL\n",
    "import torch\n",
    "import torch.nn as nn\n",
    "import torch.optim as optim\n",
    "import torchvision.datasets as dset\n",
    "from torch.utils.data.sampler import SubsetRandomSampler\n",
    "\n",
    "from torchvision import transforms"
   ]
  },
  {
   "cell_type": "code",
   "execution_count": 3,
   "metadata": {
    "id": "NNU-OD9O9ltP"
   },
   "outputs": [],
   "source": [
    "device = torch.device(\"cuda:0\") # Let's make sure GPU is available!"
   ]
  },
  {
   "cell_type": "markdown",
   "metadata": {
    "id": "PY1qvGoXtrMl"
   },
   "source": [
    "# Загружаем данные"
   ]
  },
  {
   "cell_type": "code",
   "execution_count": 4,
   "metadata": {
    "id": "YAvkoRx-9FsP"
   },
   "outputs": [],
   "source": [
    "# First, lets load the dataset\n",
    "data_train = dset.SVHN('./', \n",
    "                       transform=transforms.Compose([\n",
    "                           transforms.ToTensor(),\n",
    "                           transforms.Normalize(mean=[0.43,0.44,0.47],\n",
    "                                               std=[0.20,0.20,0.20])                           \n",
    "                       ])\n",
    "                      )\n",
    "data_test = dset.SVHN('./', split='test', transform=transforms.Compose([\n",
    "                           transforms.ToTensor(),\n",
    "                           transforms.Normalize(mean=[0.43,0.44,0.47],\n",
    "                                               std=[0.20,0.20,0.20])                           \n",
    "                       ]))"
   ]
  },
  {
   "cell_type": "markdown",
   "metadata": {
    "id": "waKSiffLtrMn"
   },
   "source": [
    "Разделяем данные на training и validation.\n",
    "\n",
    "На всякий случай для подробностей - https://pytorch.org/tutorials/beginner/data_loading_tutorial.html"
   ]
  },
  {
   "cell_type": "code",
   "execution_count": 5,
   "metadata": {
    "id": "YRnr8CPg7Hli"
   },
   "outputs": [],
   "source": [
    "batch_size = 64\n",
    "\n",
    "data_size = data_train.data.shape[0]\n",
    "validation_split = .2\n",
    "split = int(np.floor(validation_split * data_size))\n",
    "indices = list(range(data_size))\n",
    "np.random.shuffle(indices)\n",
    "\n",
    "train_indices, val_indices = indices[split:], indices[:split]\n",
    "\n",
    "train_sampler = SubsetRandomSampler(train_indices)\n",
    "val_sampler = SubsetRandomSampler(val_indices)\n",
    "\n",
    "train_loader = torch.utils.data.DataLoader(data_train, batch_size=batch_size, \n",
    "                                           sampler=train_sampler)\n",
    "val_loader = torch.utils.data.DataLoader(data_train, batch_size=batch_size,\n",
    "                                         sampler=val_sampler)"
   ]
  },
  {
   "cell_type": "code",
   "execution_count": 6,
   "metadata": {
    "id": "LyYvt-T67PBG"
   },
   "outputs": [],
   "source": [
    "# We'll use a special helper module to shape it into a flat tensor\n",
    "class Flattener(nn.Module):\n",
    "    def forward(self, x):\n",
    "        batch_size, *_ = x.shape\n",
    "        return x.view(batch_size, -1)"
   ]
  },
  {
   "cell_type": "markdown",
   "metadata": {
    "id": "LLTcQuo0trMo"
   },
   "source": [
    "Создадим простейшую сеть с новыми слоями:  \n",
    "Convolutional - `nn.Conv2d`  \n",
    "MaxPool - `nn.MaxPool2d`"
   ]
  },
  {
   "cell_type": "code",
   "execution_count": 7,
   "metadata": {
    "id": "w9SFVGZP7SQd"
   },
   "outputs": [],
   "source": [
    "nn_model = nn.Sequential(\n",
    "            nn.Conv2d(3, 64, 3, padding=1),\n",
    "            nn.ReLU(inplace=True),\n",
    "            nn.MaxPool2d(4),\n",
    "            nn.Conv2d(64, 64, 3, padding=1),\n",
    "            nn.ReLU(inplace=True),\n",
    "            nn.MaxPool2d(4),    \n",
    "            Flattener(),\n",
    "            nn.Linear(64*2*2, 10),\n",
    "          )\n",
    "\n",
    "nn_model.type(torch.cuda.FloatTensor)\n",
    "nn_model.to(device)\n",
    "\n",
    "loss = nn.CrossEntropyLoss().type(torch.cuda.FloatTensor)\n",
    "optimizer = optim.SGD(nn_model.parameters(), lr=1e-1, weight_decay=1e-4)"
   ]
  },
  {
   "cell_type": "markdown",
   "metadata": {
    "id": "LQN6XngvtrMp"
   },
   "source": [
    "Восстановите функцию `compute_accuracy` из прошлого задания.  \n",
    "Единственное отличие в новом - она должна передать данные на GPU прежде чем прогонять через модель. Сделайте это так же, как это делает функция `train_model`"
   ]
  },
  {
   "cell_type": "code",
   "execution_count": 8,
   "metadata": {
    "colab": {
     "base_uri": "https://localhost:8080/"
    },
    "id": "2ek3KVQK7hJ6",
    "outputId": "98cf9871-8c28-4f4f-960e-e7b8ba40ce66"
   },
   "outputs": [
    {
     "name": "stdout",
     "output_type": "stream",
     "text": [
      "Average loss: 1.442839, Train accuracy: 0.516278, Val accuracy: 0.711965\n",
      "Average loss: 0.719823, Train accuracy: 0.782104, Val accuracy: 0.780083\n",
      "Average loss: 0.607837, Train accuracy: 0.818380, Val accuracy: 0.806020\n",
      "Average loss: 0.560281, Train accuracy: 0.832969, Val accuracy: 0.810593\n",
      "Average loss: 0.524020, Train accuracy: 0.844367, Val accuracy: 0.839055\n"
     ]
    }
   ],
   "source": [
    "def train_model(model, train_loader, val_loader, loss, optimizer, num_epochs, scheduler = None):    \n",
    "    loss_history = []\n",
    "    train_history = []\n",
    "    val_history = []\n",
    "    for epoch in range(num_epochs):\n",
    "        model.train() # Enter train mode\n",
    "        \n",
    "        loss_accum = 0\n",
    "        correct_samples = 0\n",
    "        total_samples = 0\n",
    "        for i_step, (x, y) in enumerate(train_loader):\n",
    "          \n",
    "            x_gpu = x.to(device)\n",
    "            y_gpu = y.to(device)\n",
    "            prediction = model(x_gpu)    \n",
    "            loss_value = loss(prediction, y_gpu)\n",
    "            optimizer.zero_grad()\n",
    "            loss_value.backward()\n",
    "            optimizer.step()\n",
    "            \n",
    "            _, indices = torch.max(prediction, 1)\n",
    "            correct_samples += torch.sum(indices == y_gpu)\n",
    "            total_samples += y.shape[0]\n",
    "            \n",
    "            loss_accum += loss_value\n",
    "\n",
    "        ave_loss = loss_accum / i_step\n",
    "        train_accuracy = float(correct_samples) / total_samples\n",
    "        val_accuracy = compute_accuracy(model, val_loader)\n",
    "        \n",
    "        if scheduler is not None:\n",
    "            scheduler.step(ave_loss)\n",
    "\n",
    "        loss_history.append(float(ave_loss))\n",
    "        train_history.append(train_accuracy)\n",
    "        val_history.append(val_accuracy)\n",
    "        \n",
    "        print(\"Average loss: %f, Train accuracy: %f, Val accuracy: %f\" % (ave_loss, train_accuracy, val_accuracy))\n",
    "        \n",
    "    return loss_history, train_history, val_history\n",
    "        \n",
    "def compute_accuracy(model, loader):\n",
    "    model.eval() # Evaluation mode\n",
    "    trueAnswerCounter = 0 \n",
    "    totalAnswerCounter = 0 \n",
    "    with torch.no_grad():\n",
    "        for i_step, (x, y) in enumerate(loader):\n",
    "                x = x.to(device)\n",
    "                y = y.to(device)\n",
    "                prediction = torch.argmax(model(x) , 1)    \n",
    "                for i in range(len(prediction)):\n",
    "                    if prediction[i] == y[i]:\n",
    "                        trueAnswerCounter += float(1)\n",
    "                totalAnswerCounter += float(len(prediction))\n",
    "                \n",
    "                del prediction\n",
    "\n",
    "    return float(trueAnswerCounter/totalAnswerCounter)\n",
    "\n",
    "loss_history, train_history, val_history = train_model(nn_model, train_loader, val_loader, loss, optimizer, 5)"
   ]
  },
  {
   "cell_type": "markdown",
   "metadata": {
    "id": "6a-3a1ZFGEw_"
   },
   "source": [
    "# Аугментация данных (Data augmentation)\n",
    "\n",
    "В работе с изображениями одним из особенно важных методов является аугментация данных - то есть, генерация дополнительных данных для тренировки на основе изначальных.   \n",
    "Таким образом, мы получаем возможность \"увеличить\" набор данных для тренировки, что ведет к лучшей работе сети.\n",
    "Важно, чтобы аугментированные данные были похожи на те, которые могут встретиться в реальной жизни, иначе польза от аугментаций уменьшается и может ухудшить работу сети.\n",
    "\n",
    "С PyTorch идут несколько таких алгоритмов, называемых `transforms`. Более подробно про них можно прочитать тут -\n",
    "https://pytorch.org/tutorials/beginner/data_loading_tutorial.html#transforms\n",
    "\n",
    "Ниже мы используем следующие алгоритмы генерации:\n",
    "- ColorJitter - случайное изменение цвета\n",
    "- RandomHorizontalFlip - горизонтальное отражение с вероятностью 50%\n",
    "- RandomVerticalFlip - вертикальное отражение с вероятностью 50%\n",
    "- RandomRotation - случайный поворот"
   ]
  },
  {
   "cell_type": "code",
   "execution_count": 9,
   "metadata": {
    "colab": {
     "base_uri": "https://localhost:8080/"
    },
    "id": "jCWMUWmr7t5g",
    "outputId": "e1454ddb-d004-4a61-9272-d77caf84df19"
   },
   "outputs": [
    {
     "name": "stderr",
     "output_type": "stream",
     "text": [
      "c:\\users\\степан\\appdata\\local\\programs\\python\\python39\\lib\\site-packages\\torchvision\\transforms\\transforms.py:1200: UserWarning: Argument resample is deprecated and will be removed since v0.10.0. Please, use interpolation instead\n",
      "  warnings.warn(\n"
     ]
    }
   ],
   "source": [
    "tfs = transforms.Compose([\n",
    "    transforms.ColorJitter(hue=.50, saturation=.50),\n",
    "    transforms.RandomHorizontalFlip(),\n",
    "    transforms.RandomVerticalFlip(),\n",
    "    transforms.RandomRotation(50, resample=PIL.Image.BILINEAR),\n",
    "    transforms.ToTensor(),\n",
    "    transforms.Normalize(mean=[0.43,0.44,0.47],\n",
    "                       std=[0.20,0.20,0.20])                           \n",
    "])\n",
    "\n",
    "# Create augmented train dataset\n",
    "data_aug_train = dset.SVHN('./', \n",
    "                       transform=tfs\n",
    "                      )\n",
    "\n",
    "train_aug_loader = torch.utils.data.DataLoader(data_aug_train, batch_size=batch_size, \n",
    "                                           sampler=train_sampler)"
   ]
  },
  {
   "cell_type": "markdown",
   "metadata": {
    "id": "LHLyJzITtrMr"
   },
   "source": [
    "Визуализируем результаты агментации (вообще, смотреть на сгенерированные данные всегда очень полезно)."
   ]
  },
  {
   "cell_type": "code",
   "execution_count": 10,
   "metadata": {
    "colab": {
     "base_uri": "https://localhost:8080/",
     "height": 202
    },
    "id": "YlJJEro1KZ45",
    "outputId": "cf188b0e-64d4-4ffb-aa5e-ec66d8b93bfc"
   },
   "outputs": [
    {
     "data": {
      "image/png": "[encoded data removed]",
      "text/plain": [
       "<Figure size 2160x216 with 10 Axes>"
      ]
     },
     "metadata": {
      "needs_background": "light"
     },
     "output_type": "display_data"
    }
   ],
   "source": [
    "# TODO: Visualize some augmented images!\n",
    "# hint: you can create new datasets and loaders to accomplish this\n",
    "\n",
    "# Based on the visualizations, should we keep all the augmentations?\n",
    "\n",
    "tfs = transforms.Compose([\n",
    "    transforms.ColorJitter(hue=.20, saturation=.20),\n",
    "    transforms.RandomHorizontalFlip(),\n",
    "    transforms.RandomVerticalFlip(),\n",
    "    transforms.RandomRotation(10, resample=PIL.Image.BILINEAR),\n",
    "])\n",
    "\n",
    "data_aug_vis = dset.SVHN('./', \n",
    "                       transform=tfs\n",
    "                      )\n",
    "\n",
    "plt.figure(figsize=(30, 3))\n",
    "\n",
    "for i, (x, y) in enumerate(data_aug_vis):\n",
    "    if i == 10:\n",
    "        break\n",
    "    plt.subplot(1, 10, i+1)\n",
    "    plt.grid(False)\n",
    "    plt.imshow(x)\n",
    "    plt.axis('off')"
   ]
  },
  {
   "cell_type": "markdown",
   "metadata": {
    "id": "o2LrmsYHoguB"
   },
   "source": [
    "Все ли агментации одинаково полезны на этом наборе данных? Могут ли быть среди них те, которые собьют модель с толку?\n",
    "\n",
    "Выберите из них только корректные"
   ]
  },
  {
   "cell_type": "code",
   "execution_count": 11,
   "metadata": {
    "colab": {
     "base_uri": "https://localhost:8080/",
     "height": 202
    },
    "id": "evro9ksXGs9u",
    "outputId": "591c75ae-400e-4c7c-e68c-b149657e86ec"
   },
   "outputs": [
    {
     "data": {
      "image/png": "[encoded data removed]",
      "text/plain": [
       "<Figure size 2160x216 with 10 Axes>"
      ]
     },
     "metadata": {
      "needs_background": "light"
     },
     "output_type": "display_data"
    }
   ],
   "source": [
    "# TODO: \n",
    "tfs = transforms.Compose([\n",
    "    transforms.ColorJitter(hue=.20, saturation=.20),\n",
    "    transforms.RandomRotation(10, resample=PIL.Image.BILINEAR)                          \n",
    "])\n",
    "\n",
    "data_aug_vis = dset.SVHN('./', \n",
    "                       transform=tfs\n",
    "                      )\n",
    "\n",
    "plt.figure(figsize=(30, 3))\n",
    "\n",
    "for i, (x, y) in enumerate(data_aug_vis):\n",
    "    if i == 10:\n",
    "        break\n",
    "    plt.subplot(1, 10, i+1)\n",
    "    plt.grid(False)\n",
    "    plt.imshow(x)\n",
    "    plt.axis('off')\n",
    "\n",
    "tfs = transforms.Compose([\n",
    "    transforms.ColorJitter(hue=.20, saturation=.20),\n",
    "    transforms.RandomRotation(10, resample=PIL.Image.BILINEAR),\n",
    "    transforms.ToTensor(),\n",
    "    transforms.Normalize(mean=[0.43,0.44,0.47],\n",
    "                       std=[0.20,0.20,0.20])                           \n",
    "])\n",
    "\n",
    "data_aug_train = dset.SVHN('./', \n",
    "                       transform=tfs\n",
    "                      )\n",
    "\n",
    "train_aug_loader = torch.utils.data.DataLoader(data_aug_train, batch_size=batch_size, \n",
    "                                           sampler=train_sampler)"
   ]
  },
  {
   "cell_type": "code",
   "execution_count": null,
   "metadata": {
    "colab": {
     "base_uri": "https://localhost:8080/"
    },
    "id": "PeO6Zw0DHqPR",
    "outputId": "6e057a5e-5518-46f1-81d9-8997e36784ab"
   },
   "outputs": [
    {
     "name": "stdout",
     "output_type": "stream",
     "text": [
      "Average loss: 1.924172, Train accuracy: 0.316128, Val accuracy: 0.447137\n",
      "Average loss: 1.703066, Train accuracy: 0.390148, Val accuracy: 0.503515\n",
      "Average loss: 1.615564, Train accuracy: 0.425963, Val accuracy: 0.510068\n",
      "Average loss: 1.560174, Train accuracy: 0.447753, Val accuracy: 0.508088\n",
      "Average loss: 1.523750, Train accuracy: 0.459236, Val accuracy: 0.514982\n"
     ]
    }
   ],
   "source": [
    "# Finally, let's train with augmentations!\n",
    "\n",
    "# Note we shouldn't use augmentations on validation\n",
    "\n",
    "loss_history, train_history, val_history = train_model(nn_model, train_aug_loader, val_loader, loss, optimizer, 5)"
   ]
  },
  {
   "cell_type": "markdown",
   "metadata": {
    "id": "r0bcioK6JBDK"
   },
   "source": [
    "# LeNet\n",
    "Попробуем имплементировать классическую архитектуру сверточной нейронной сети, предложенную Яном ЛеКуном в 1998 году. В свое время она достигла впечатляющих результатов на MNIST, посмотрим как она справится с SVHN?\n",
    "Она описана в статье [\"Gradient Based Learning Applied to Document Recognition\"](http://yann.lecun.com/exdb/publis/pdf/lecun-01a.pdf), попробуйте прочитать ключевые части и имплементировать предложенную архитетуру на PyTorch.\n",
    "\n",
    "Реализовывать слои и функцию ошибки LeNet, которых нет в PyTorch, **не нужно** - просто возьмите их размеры и переведите в уже известные нам Convolutional, Pooling и Fully Connected layers.\n",
    "\n",
    "Если в статье не очень понятно, можно просто погуглить LeNet и разобраться в деталях :)"
   ]
  },
  {
   "cell_type": "code",
   "execution_count": null,
   "metadata": {
    "id": "ieEzZUglJAUB"
   },
   "outputs": [],
   "source": [
    "# TODO: Implement LeNet-like architecture for SVHN task\n",
    "\n",
    "lenet_model = nn.Sequential(\n",
    "nn.Conv2d(in_channels=3, out_channels=6, kernel_size=5, padding=0),\n",
    "nn.MaxPool2d(kernel_size=2),\n",
    "nn.ReLU(inplace=True),\n",
    "\n",
    "nn.Conv2d(in_channels=6, out_channels=16, kernel_size=5, padding=0),\n",
    "nn.MaxPool2d(kernel_size=2),\n",
    "nn.ReLU(inplace=True),\n",
    "\n",
    "Flattener(),\n",
    "\n",
    "nn.Linear(16*5*5, 120),\n",
    "nn.ReLU(inplace=True),\n",
    "\n",
    "nn.Linear(120, 84),\n",
    "nn.ReLU(inplace=True),\n",
    "\n",
    "nn.Linear(84, 10))\n",
    "\n",
    "lenet_model.type(torch.cuda.FloatTensor)\n",
    "lenet_model.to(device)\n",
    "\n",
    "\n",
    "loss = nn.CrossEntropyLoss().type(torch.cuda.FloatTensor)\n",
    "optimizer = optim.SGD(lenet_model.parameters(), lr=1e-1, weight_decay=1e-4)"
   ]
  },
  {
   "cell_type": "code",
   "execution_count": null,
   "metadata": {
    "colab": {
     "base_uri": "https://localhost:8080/"
    },
    "id": "WMmaPfdeKk9H",
    "outputId": "f2f629e7-2d45-4b59-a4c3-2aa47a345aa4"
   },
   "outputs": [
    {
     "name": "stdout",
     "output_type": "stream",
     "text": [
      "Average loss: 2.145817, Train accuracy: 0.226564, Val accuracy: 0.408300\n",
      "Average loss: 1.553668, Train accuracy: 0.451797, Val accuracy: 0.552932\n",
      "Average loss: 1.279018, Train accuracy: 0.561632, Val accuracy: 0.614839\n",
      "Average loss: 1.144041, Train accuracy: 0.607839, Val accuracy: 0.626032\n",
      "Average loss: 1.065721, Train accuracy: 0.635549, Val accuracy: 0.646236\n",
      "Average loss: 1.026487, Train accuracy: 0.650855, Val accuracy: 0.667122\n",
      "Average loss: 0.994068, Train accuracy: 0.660939, Val accuracy: 0.654358\n",
      "Average loss: 0.967729, Train accuracy: 0.669181, Val accuracy: 0.657088\n",
      "Average loss: 0.942735, Train accuracy: 0.677490, Val accuracy: 0.693332\n",
      "Average loss: 0.927515, Train accuracy: 0.684896, Val accuracy: 0.676473\n"
     ]
    }
   ],
   "source": [
    "# Let's train it!\n",
    "loss_history, train_history, val_history = train_model(lenet_model, train_aug_loader, val_loader, loss, optimizer, 10)"
   ]
  },
  {
   "cell_type": "markdown",
   "metadata": {
    "id": "u_O9qiYySvuj"
   },
   "source": [
    "# Подбор гиперпараметров"
   ]
  },
  {
   "cell_type": "code",
   "execution_count": null,
   "metadata": {
    "colab": {
     "base_uri": "https://localhost:8080/"
    },
    "id": "i6mhfdQ9K-N3",
    "outputId": "8d22a140-392a-43f5-b45e-6c5049e8fd63"
   },
   "outputs": [
    {
     "name": "stdout",
     "output_type": "stream",
     "text": [
      "learning rater:  1.0  refularization:  0.001\n",
      "Average loss: 2.243560, Train accuracy: 0.186175, Val accuracy: 0.195345\n",
      "Average loss: 2.243999, Train accuracy: 0.186483, Val accuracy: 0.195345\n",
      "Average loss: 2.243618, Train accuracy: 0.186721, Val accuracy: 0.195345\n",
      "Epoch     4: reducing learning rate of group 0 to 5.0000e-01.\n",
      "Average loss: 2.243858, Train accuracy: 0.186977, Val accuracy: 0.195345\n",
      "Average loss: 2.241978, Train accuracy: 0.187677, Val accuracy: 0.195345\n",
      "learning rater:  1.0  refularization:  0.0001\n",
      "Average loss: 2.198494, Train accuracy: 0.214824, Val accuracy: 0.195482\n",
      "Average loss: 2.222151, Train accuracy: 0.198427, Val accuracy: 0.253020\n",
      "Average loss: 2.200025, Train accuracy: 0.215507, Val accuracy: 0.195550\n",
      "Epoch     4: reducing learning rate of group 0 to 5.0000e-01.\n",
      "Average loss: 2.219222, Train accuracy: 0.206566, Val accuracy: 0.195345\n",
      "Average loss: 2.242036, Train accuracy: 0.187728, Val accuracy: 0.195345\n",
      "learning rater:  1.0  refularization:  1e-05\n",
      "Average loss: 2.215189, Train accuracy: 0.202385, Val accuracy: 0.217460\n",
      "Average loss: 2.209965, Train accuracy: 0.209501, Val accuracy: 0.195413\n",
      "Average loss: 2.229092, Train accuracy: 0.192404, Val accuracy: 0.199645\n",
      "Average loss: 2.219739, Train accuracy: 0.204740, Val accuracy: 0.234182\n",
      "Epoch     5: reducing learning rate of group 0 to 5.0000e-01.\n",
      "Average loss: 2.238460, Train accuracy: 0.192335, Val accuracy: 0.195345\n",
      "learning rater:  1.0  refularization:  1e-07\n",
      "Average loss: 2.191454, Train accuracy: 0.218766, Val accuracy: 0.242987\n",
      "Average loss: 2.179729, Train accuracy: 0.228441, Val accuracy: 0.220326\n",
      "Average loss: 2.194184, Train accuracy: 0.218647, Val accuracy: 0.197529\n",
      "Average loss: 2.223099, Train accuracy: 0.203102, Val accuracy: 0.238755\n",
      "Epoch     5: reducing learning rate of group 0 to 5.0000e-01.\n",
      "Average loss: 2.232976, Train accuracy: 0.196959, Val accuracy: 0.200601\n",
      "learning rater:  0.1  refularization:  0.001\n",
      "Average loss: 2.204206, Train accuracy: 0.200304, Val accuracy: 0.239233\n",
      "Average loss: 1.734885, Train accuracy: 0.389670, Val accuracy: 0.527336\n",
      "Average loss: 1.320837, Train accuracy: 0.544825, Val accuracy: 0.586718\n",
      "Average loss: 1.156540, Train accuracy: 0.605211, Val accuracy: 0.640980\n",
      "Average loss: 1.071233, Train accuracy: 0.634406, Val accuracy: 0.634701\n",
      "learning rater:  0.1  refularization:  0.0001\n",
      "Average loss: 2.164171, Train accuracy: 0.218135, Val accuracy: 0.349942\n",
      "Average loss: 1.567351, Train accuracy: 0.445586, Val accuracy: 0.573408\n",
      "Average loss: 1.253091, Train accuracy: 0.570044, Val accuracy: 0.623575\n",
      "Average loss: 1.119348, Train accuracy: 0.619152, Val accuracy: 0.573340\n",
      "Average loss: 1.045047, Train accuracy: 0.640566, Val accuracy: 0.651764\n",
      "learning rater:  0.1  refularization:  1e-05\n",
      "Average loss: 2.124057, Train accuracy: 0.231205, Val accuracy: 0.390144\n",
      "Average loss: 1.518631, Train accuracy: 0.471453, Val accuracy: 0.561736\n",
      "Average loss: 1.220618, Train accuracy: 0.582551, Val accuracy: 0.621255\n",
      "Average loss: 1.094820, Train accuracy: 0.626472, Val accuracy: 0.663026\n",
      "Average loss: 1.030485, Train accuracy: 0.649916, Val accuracy: 0.674425\n",
      "learning rater:  0.1  refularization:  1e-07\n",
      "Average loss: 2.153034, Train accuracy: 0.222281, Val accuracy: 0.375264\n",
      "Average loss: 1.578327, Train accuracy: 0.444374, Val accuracy: 0.562624\n",
      "Average loss: 1.286461, Train accuracy: 0.558151, Val accuracy: 0.611153\n",
      "Average loss: 1.159868, Train accuracy: 0.603727, Val accuracy: 0.623780\n",
      "Average loss: 1.078478, Train accuracy: 0.632085, Val accuracy: 0.651082\n",
      "learning rater:  0.01  refularization:  0.001\n",
      "Average loss: 2.255255, Train accuracy: 0.182626, Val accuracy: 0.195345\n",
      "Average loss: 2.239090, Train accuracy: 0.187677, Val accuracy: 0.195345\n",
      "Average loss: 2.236525, Train accuracy: 0.187677, Val accuracy: 0.195345\n",
      "Average loss: 2.229411, Train accuracy: 0.187745, Val accuracy: 0.195413\n",
      "Average loss: 2.189831, Train accuracy: 0.204296, Val accuracy: 0.272336\n",
      "learning rater:  0.01  refularization:  0.0001\n",
      "Average loss: 2.261301, Train accuracy: 0.183104, Val accuracy: 0.195345\n",
      "Average loss: 2.241419, Train accuracy: 0.187677, Val accuracy: 0.195345\n",
      "Average loss: 2.239094, Train accuracy: 0.187677, Val accuracy: 0.195345\n",
      "Average loss: 2.237124, Train accuracy: 0.187677, Val accuracy: 0.195345\n",
      "Average loss: 2.231699, Train accuracy: 0.187831, Val accuracy: 0.197256\n",
      "learning rater:  0.01  refularization:  1e-05\n",
      "Average loss: 2.257883, Train accuracy: 0.179572, Val accuracy: 0.195345\n",
      "Average loss: 2.239053, Train accuracy: 0.187677, Val accuracy: 0.195345\n",
      "Average loss: 2.236040, Train accuracy: 0.187677, Val accuracy: 0.195482\n",
      "Average loss: 2.227666, Train accuracy: 0.187967, Val accuracy: 0.195482\n",
      "Average loss: 2.167245, Train accuracy: 0.212299, Val accuracy: 0.247150\n",
      "learning rater:  0.01  refularization:  1e-07\n",
      "Average loss: 2.257572, Train accuracy: 0.182541, Val accuracy: 0.195345\n",
      "Average loss: 2.240098, Train accuracy: 0.187677, Val accuracy: 0.195345\n",
      "Average loss: 2.238626, Train accuracy: 0.187677, Val accuracy: 0.195345\n",
      "Average loss: 2.235965, Train accuracy: 0.187677, Val accuracy: 0.195345\n",
      "Average loss: 2.226119, Train accuracy: 0.187762, Val accuracy: 0.195413\n",
      "learning rater:  0.001  refularization:  0.001\n",
      "Average loss: 2.291847, Train accuracy: 0.158158, Val accuracy: 0.195345\n",
      "Average loss: 2.269489, Train accuracy: 0.187677, Val accuracy: 0.195345\n",
      "Average loss: 2.252785, Train accuracy: 0.187677, Val accuracy: 0.195345\n",
      "Average loss: 2.245282, Train accuracy: 0.187677, Val accuracy: 0.195345\n",
      "Average loss: 2.242831, Train accuracy: 0.187677, Val accuracy: 0.195345\n",
      "learning rater:  0.001  refularization:  0.0001\n",
      "Average loss: 2.300872, Train accuracy: 0.110091, Val accuracy: 0.142721\n",
      "Average loss: 2.281721, Train accuracy: 0.185442, Val accuracy: 0.195345\n",
      "Average loss: 2.264228, Train accuracy: 0.187677, Val accuracy: 0.195345\n",
      "Average loss: 2.250340, Train accuracy: 0.187677, Val accuracy: 0.195345\n",
      "Average loss: 2.244126, Train accuracy: 0.187677, Val accuracy: 0.195345\n",
      "learning rater:  0.001  refularization:  1e-05\n",
      "Average loss: 2.301918, Train accuracy: 0.125448, Val accuracy: 0.195277\n",
      "Average loss: 2.286183, Train accuracy: 0.187677, Val accuracy: 0.195345\n",
      "Average loss: 2.274310, Train accuracy: 0.187677, Val accuracy: 0.195345\n",
      "Average loss: 2.264539, Train accuracy: 0.187677, Val accuracy: 0.195345\n",
      "Average loss: 2.256409, Train accuracy: 0.187677, Val accuracy: 0.195345\n",
      "learning rater:  0.001  refularization:  1e-07\n",
      "Average loss: 2.290820, Train accuracy: 0.168686, Val accuracy: 0.195345\n",
      "Average loss: 2.272032, Train accuracy: 0.187677, Val accuracy: 0.195345\n",
      "Average loss: 2.256150, Train accuracy: 0.187677, Val accuracy: 0.195345\n",
      "Average loss: 2.248699, Train accuracy: 0.187677, Val accuracy: 0.195345\n",
      "Average loss: 2.244864, Train accuracy: 0.187677, Val accuracy: 0.195345\n",
      "learning rater:  0.0001  refularization:  0.001\n",
      "Average loss: 2.305961, Train accuracy: 0.116473, Val accuracy: 0.113439\n",
      "Average loss: 2.303156, Train accuracy: 0.116558, Val accuracy: 0.113439\n",
      "Average loss: 2.300314, Train accuracy: 0.116592, Val accuracy: 0.113371\n",
      "Average loss: 2.297562, Train accuracy: 0.116660, Val accuracy: 0.113371\n",
      "Average loss: 2.294834, Train accuracy: 0.116575, Val accuracy: 0.113644\n",
      "learning rater:  0.0001  refularization:  0.0001\n",
      "Average loss: 2.296722, Train accuracy: 0.144388, Val accuracy: 0.143881\n",
      "Average loss: 2.294434, Train accuracy: 0.145088, Val accuracy: 0.143267\n",
      "Average loss: 2.292109, Train accuracy: 0.148671, Val accuracy: 0.153778\n",
      "Average loss: 2.289901, Train accuracy: 0.161929, Val accuracy: 0.168930\n",
      "Average loss: 2.287753, Train accuracy: 0.171894, Val accuracy: 0.182377\n",
      "learning rater:  0.0001  refularization:  1e-05\n",
      "Average loss: 2.302090, Train accuracy: 0.116183, Val accuracy: 0.113303\n",
      "Average loss: 2.300074, Train accuracy: 0.116592, Val accuracy: 0.113508\n",
      "Average loss: 2.298185, Train accuracy: 0.116626, Val accuracy: 0.113439\n",
      "Average loss: 2.296215, Train accuracy: 0.116626, Val accuracy: 0.113439\n",
      "Average loss: 2.294406, Train accuracy: 0.116729, Val accuracy: 0.113371\n",
      "learning rater:  0.0001  refularization:  1e-07\n",
      "Average loss: 2.292553, Train accuracy: 0.187677, Val accuracy: 0.195345\n",
      "Average loss: 2.290756, Train accuracy: 0.187677, Val accuracy: 0.195345\n",
      "Average loss: 2.289074, Train accuracy: 0.187677, Val accuracy: 0.195345\n",
      "Average loss: 2.287373, Train accuracy: 0.187677, Val accuracy: 0.195345\n",
      "Average loss: 2.285734, Train accuracy: 0.187677, Val accuracy: 0.195345\n"
     ]
    }
   ],
   "source": [
    "# The key hyperparameters we're going to tune are learning speed, annealing rate and regularization\n",
    "# We also encourage you to try different optimizers as well\n",
    "\n",
    "Hyperparams = namedtuple(\"Hyperparams\", ['learning_rate', 'anneal_epochs', 'reg'])\n",
    "RunResult = namedtuple(\"RunResult\", ['model', 'train_history', 'val_history', 'final_val_accuracy'])\n",
    "\n",
    "learning_rates = [1e0, 1e-1, 1e-2, 1e-3, 1e-4]\n",
    "anneal_coeff = 0.2\n",
    "anneal_epochs = [1, 5, 10, 15, 20, 50]\n",
    "reg = [1e-3, 1e-4, 1e-5, 1e-7]\n",
    "\n",
    "batch_size = 64\n",
    "epoch_num = 5\n",
    "\n",
    "# Record all the runs here\n",
    "# Key should be Hyperparams and values should be RunResult\n",
    "run_record = {} \n",
    "\n",
    "\n",
    "for lrates in learning_rates:\n",
    "    for rgs in reg:\n",
    "\n",
    "        print(\"learning rater: \" , lrates, \" refularization: \", rgs)\n",
    "    \n",
    "        lenet_model = nn.Sequential(\n",
    "        nn.Conv2d(in_channels=3, out_channels=6, kernel_size=5, padding=0),\n",
    "        nn.MaxPool2d(kernel_size=2),\n",
    "        nn.ReLU(inplace=True),\n",
    "    \n",
    "        nn.Conv2d(in_channels=6, out_channels=16, kernel_size=5, padding=0),\n",
    "        nn.MaxPool2d(kernel_size=2),\n",
    "        nn.ReLU(inplace=True),\n",
    "    \n",
    "        Flattener(),\n",
    "    \n",
    "        nn.Linear(16*5*5, 120),\n",
    "        nn.ReLU(inplace=True),\n",
    "    \n",
    "        nn.Linear(120, 84),\n",
    "        nn.ReLU(inplace=True),\n",
    "    \n",
    "        nn.Linear(84, 10))\n",
    "    \n",
    "        lenet_model.type(torch.cuda.FloatTensor)\n",
    "        lenet_model.to(device)\n",
    "    \n",
    "        loss = nn.CrossEntropyLoss().type(torch.cuda.FloatTensor)\n",
    "        optimizer = optim.SGD(lenet_model.parameters(), lr=lrates, weight_decay=rgs)\n",
    "        scheduler = optim.lr_scheduler.ReduceLROnPlateau(optimizer, factor = 0.5, patience = 2, verbose = True)\n",
    "        loss_history, train_history, val_history = train_model(lenet_model, train_aug_loader, val_loader, loss, optimizer, epoch_num, scheduler)\n",
    "        \n",
    "        run_record[Hyperparams(lrates, anneal_epochs[0],  rgs)] = RunResult(lenet_model, train_history, val_history , val_history[-1])"
   ]
  },
  {
   "cell_type": "code",
   "execution_count": null,
   "metadata": {
    "colab": {
     "base_uri": "https://localhost:8080/"
    },
    "id": "Y6xExdw8JB1l",
    "outputId": "9c28300c-a32d-427d-da38-85f407fc0b75"
   },
   "outputs": [
    {
     "name": "stdout",
     "output_type": "stream",
     "text": [
      "Best validation accuracy: 0.67, best hyperparams: Hyperparams(learning_rate=0.1, anneal_epochs=1, reg=1e-05)\n"
     ]
    }
   ],
   "source": [
    "best_val_accuracy = None\n",
    "best_hyperparams = None\n",
    "best_run = None\n",
    "\n",
    "for hyperparams, run_result in run_record.items():\n",
    "    if best_val_accuracy is None or best_val_accuracy < run_result.final_val_accuracy:\n",
    "        best_val_accuracy = run_result.final_val_accuracy\n",
    "        best_hyperparams = hyperparams\n",
    "        best_run = run_result\n",
    "        \n",
    "print(\"Best validation accuracy: %4.2f, best hyperparams: %s\" % (best_val_accuracy, best_hyperparams))\n",
    "        "
   ]
  },
  {
   "cell_type": "markdown",
   "metadata": {
    "id": "LOmsR0uVgtgf"
   },
   "source": [
    "# Свободное упражнение - догоним и перегоним LeNet!\n",
    "\n",
    "Попробуйте найти архитектуру и настройки тренировки, чтобы выступить лучше наших бейзлайнов.\n",
    "\n",
    "Что можно и нужно попробовать:\n",
    "- BatchNormalization (для convolution layers он в PyTorch называется [batchnorm2d](https://pytorch.org/docs/stable/nn.html#batchnorm2d))\n",
    "- Изменить количество слоев и их толщину\n",
    "- Изменять количество эпох тренировки\n",
    "- Попробовать и другие агментации"
   ]
  },
  {
   "cell_type": "code",
   "execution_count": 12,
   "metadata": {
    "colab": {
     "base_uri": "https://localhost:8080/"
    },
    "id": "tSVhD747icoc",
    "outputId": "ac06d399-bcff-44a8-87e3-dbe74dee803f"
   },
   "outputs": [
    {
     "name": "stdout",
     "output_type": "stream",
     "text": [
      "starting gym training \n",
      "Average loss: 2.267137, Train accuracy: 0.174658, Val accuracy: 0.188520\n",
      "Average loss: 2.243175, Train accuracy: 0.187370, Val accuracy: 0.189816\n",
      "Average loss: 1.743498, Train accuracy: 0.376088, Val accuracy: 0.752986\n",
      "Average loss: 0.550480, Train accuracy: 0.828209, Val accuracy: 0.878780\n",
      "Average loss: 0.370281, Train accuracy: 0.889090, Val accuracy: 0.879872\n",
      "Average loss: 0.301625, Train accuracy: 0.910658, Val accuracy: 0.903147\n"
     ]
    },
    {
     "ename": "KeyboardInterrupt",
     "evalue": "",
     "output_type": "error",
     "traceback": [
      "\u001b[1;31m---------------------------------------------------------------------------\u001b[0m",
      "\u001b[1;31mKeyboardInterrupt\u001b[0m                         Traceback (most recent call last)",
      "\u001b[1;32m<ipython-input-12-cc2c39eead25>\u001b[0m in \u001b[0;36m<module>\u001b[1;34m\u001b[0m\n\u001b[0;32m     71\u001b[0m \u001b[1;31m#scheduler = optim.lr_scheduler.StepLR(optimizer, 2, gamma=0.5)\u001b[0m\u001b[1;33m\u001b[0m\u001b[1;33m\u001b[0m\u001b[1;33m\u001b[0m\u001b[0m\n\u001b[0;32m     72\u001b[0m \u001b[1;33m\u001b[0m\u001b[0m\n\u001b[1;32m---> 73\u001b[1;33m \u001b[0mloss_history\u001b[0m\u001b[1;33m,\u001b[0m \u001b[0mtrain_history\u001b[0m\u001b[1;33m,\u001b[0m \u001b[0mval_history\u001b[0m \u001b[1;33m=\u001b[0m \u001b[0mtrain_model\u001b[0m\u001b[1;33m(\u001b[0m\u001b[0mbest_model\u001b[0m\u001b[1;33m,\u001b[0m \u001b[0mtrain_aug_loader\u001b[0m\u001b[1;33m,\u001b[0m \u001b[0mval_loader\u001b[0m\u001b[1;33m,\u001b[0m \u001b[0mloss\u001b[0m\u001b[1;33m,\u001b[0m \u001b[0moptimizer\u001b[0m\u001b[1;33m,\u001b[0m \u001b[0mepoch_num\u001b[0m\u001b[1;33m,\u001b[0m \u001b[0mscheduler\u001b[0m\u001b[1;33m)\u001b[0m\u001b[1;33m\u001b[0m\u001b[1;33m\u001b[0m\u001b[0m\n\u001b[0m",
      "\u001b[1;32m<ipython-input-8-ec247f77c18f>\u001b[0m in \u001b[0;36mtrain_model\u001b[1;34m(model, train_loader, val_loader, loss, optimizer, num_epochs, scheduler)\u001b[0m\n\u001b[0;32m     16\u001b[0m             \u001b[0mloss_value\u001b[0m \u001b[1;33m=\u001b[0m \u001b[0mloss\u001b[0m\u001b[1;33m(\u001b[0m\u001b[0mprediction\u001b[0m\u001b[1;33m,\u001b[0m \u001b[0my_gpu\u001b[0m\u001b[1;33m)\u001b[0m\u001b[1;33m\u001b[0m\u001b[1;33m\u001b[0m\u001b[0m\n\u001b[0;32m     17\u001b[0m             \u001b[0moptimizer\u001b[0m\u001b[1;33m.\u001b[0m\u001b[0mzero_grad\u001b[0m\u001b[1;33m(\u001b[0m\u001b[1;33m)\u001b[0m\u001b[1;33m\u001b[0m\u001b[1;33m\u001b[0m\u001b[0m\n\u001b[1;32m---> 18\u001b[1;33m             \u001b[0mloss_value\u001b[0m\u001b[1;33m.\u001b[0m\u001b[0mbackward\u001b[0m\u001b[1;33m(\u001b[0m\u001b[1;33m)\u001b[0m\u001b[1;33m\u001b[0m\u001b[1;33m\u001b[0m\u001b[0m\n\u001b[0m\u001b[0;32m     19\u001b[0m             \u001b[0moptimizer\u001b[0m\u001b[1;33m.\u001b[0m\u001b[0mstep\u001b[0m\u001b[1;33m(\u001b[0m\u001b[1;33m)\u001b[0m\u001b[1;33m\u001b[0m\u001b[1;33m\u001b[0m\u001b[0m\n\u001b[0;32m     20\u001b[0m \u001b[1;33m\u001b[0m\u001b[0m\n",
      "\u001b[1;32mc:\\users\\степан\\appdata\\local\\programs\\python\\python39\\lib\\site-packages\\torch\\tensor.py\u001b[0m in \u001b[0;36mbackward\u001b[1;34m(self, gradient, retain_graph, create_graph, inputs)\u001b[0m\n\u001b[0;32m    243\u001b[0m                 \u001b[0mcreate_graph\u001b[0m\u001b[1;33m=\u001b[0m\u001b[0mcreate_graph\u001b[0m\u001b[1;33m,\u001b[0m\u001b[1;33m\u001b[0m\u001b[1;33m\u001b[0m\u001b[0m\n\u001b[0;32m    244\u001b[0m                 inputs=inputs)\n\u001b[1;32m--> 245\u001b[1;33m         \u001b[0mtorch\u001b[0m\u001b[1;33m.\u001b[0m\u001b[0mautograd\u001b[0m\u001b[1;33m.\u001b[0m\u001b[0mbackward\u001b[0m\u001b[1;33m(\u001b[0m\u001b[0mself\u001b[0m\u001b[1;33m,\u001b[0m \u001b[0mgradient\u001b[0m\u001b[1;33m,\u001b[0m \u001b[0mretain_graph\u001b[0m\u001b[1;33m,\u001b[0m \u001b[0mcreate_graph\u001b[0m\u001b[1;33m,\u001b[0m \u001b[0minputs\u001b[0m\u001b[1;33m=\u001b[0m\u001b[0minputs\u001b[0m\u001b[1;33m)\u001b[0m\u001b[1;33m\u001b[0m\u001b[1;33m\u001b[0m\u001b[0m\n\u001b[0m\u001b[0;32m    246\u001b[0m \u001b[1;33m\u001b[0m\u001b[0m\n\u001b[0;32m    247\u001b[0m     \u001b[1;32mdef\u001b[0m \u001b[0mregister_hook\u001b[0m\u001b[1;33m(\u001b[0m\u001b[0mself\u001b[0m\u001b[1;33m,\u001b[0m \u001b[0mhook\u001b[0m\u001b[1;33m)\u001b[0m\u001b[1;33m:\u001b[0m\u001b[1;33m\u001b[0m\u001b[1;33m\u001b[0m\u001b[0m\n",
      "\u001b[1;32mc:\\users\\степан\\appdata\\local\\programs\\python\\python39\\lib\\site-packages\\torch\\autograd\\__init__.py\u001b[0m in \u001b[0;36mbackward\u001b[1;34m(tensors, grad_tensors, retain_graph, create_graph, grad_variables, inputs)\u001b[0m\n\u001b[0;32m    143\u001b[0m         \u001b[0mretain_graph\u001b[0m \u001b[1;33m=\u001b[0m \u001b[0mcreate_graph\u001b[0m\u001b[1;33m\u001b[0m\u001b[1;33m\u001b[0m\u001b[0m\n\u001b[0;32m    144\u001b[0m \u001b[1;33m\u001b[0m\u001b[0m\n\u001b[1;32m--> 145\u001b[1;33m     Variable._execution_engine.run_backward(\n\u001b[0m\u001b[0;32m    146\u001b[0m         \u001b[0mtensors\u001b[0m\u001b[1;33m,\u001b[0m \u001b[0mgrad_tensors_\u001b[0m\u001b[1;33m,\u001b[0m \u001b[0mretain_graph\u001b[0m\u001b[1;33m,\u001b[0m \u001b[0mcreate_graph\u001b[0m\u001b[1;33m,\u001b[0m \u001b[0minputs\u001b[0m\u001b[1;33m,\u001b[0m\u001b[1;33m\u001b[0m\u001b[1;33m\u001b[0m\u001b[0m\n\u001b[0;32m    147\u001b[0m         allow_unreachable=True, accumulate_grad=True)  # allow_unreachable flag\n",
      "\u001b[1;31mKeyboardInterrupt\u001b[0m: "
     ]
    }
   ],
   "source": [
    "print(\"starting gym training \")\n",
    "\n",
    "lrates = 0.002\n",
    "rgs = 1e-05\n",
    "epoch_num = 20\n",
    "\n",
    "best_model = nn.Sequential(\n",
    "    nn.Conv2d(in_channels=3, out_channels=64, kernel_size=3, padding=1),\n",
    "    nn.ReLU(inplace=True),\n",
    "    nn.Conv2d(in_channels=64, out_channels=64, kernel_size=3, padding=1),\n",
    "    nn.ReLU(inplace=True),\n",
    "    nn.BatchNorm2d(64),\n",
    "    nn.MaxPool2d(kernel_size=2),\n",
    "\n",
    "    nn.Conv2d(in_channels=64, out_channels=128, kernel_size=3, padding=1),\n",
    "    nn.ReLU(inplace=True),\n",
    "    nn.Conv2d(in_channels=128, out_channels=128, kernel_size=3, padding=1),\n",
    "    nn.ReLU(inplace=True),\n",
    "    nn.BatchNorm2d(128),\n",
    "    nn.MaxPool2d(kernel_size=2),\n",
    "\n",
    "    nn.Conv2d(in_channels=128, out_channels=256, kernel_size=3, padding=1),\n",
    "    nn.ReLU(inplace=True),\n",
    "    nn.Conv2d(in_channels=256, out_channels=256, kernel_size=3, padding=1),\n",
    "    nn.ReLU(inplace=True),\n",
    "    nn.Conv2d(in_channels=256, out_channels=256, kernel_size=3, padding=1),\n",
    "    nn.ReLU(inplace=True),\n",
    "    nn.Conv2d(in_channels=256, out_channels=256, kernel_size=3, padding=1),\n",
    "    nn.ReLU(inplace=True),\n",
    "    nn.BatchNorm2d(256),\n",
    "    nn.MaxPool2d(kernel_size=2),\n",
    "    \n",
    "    nn.Conv2d(in_channels=256, out_channels=512, kernel_size=3, padding=1),\n",
    "    nn.ReLU(inplace=True),\n",
    "    nn.Conv2d(in_channels=512, out_channels=512, kernel_size=3, padding=1),\n",
    "    nn.ReLU(inplace=True),\n",
    "    nn.Conv2d(in_channels=512, out_channels=512, kernel_size=3, padding=1),\n",
    "    nn.ReLU(inplace=True),\n",
    "    nn.Conv2d(in_channels=512, out_channels=512, kernel_size=3, padding=1),\n",
    "    nn.ReLU(inplace=True),\n",
    "    nn.BatchNorm2d(512),\n",
    "    nn.MaxPool2d(kernel_size=2),\n",
    "    \n",
    "    nn.Conv2d(in_channels=512, out_channels=512, kernel_size=3, padding=1),\n",
    "    nn.ReLU(inplace=True),\n",
    "    nn.Conv2d(in_channels=512, out_channels=512, kernel_size=3, padding=1),\n",
    "    nn.ReLU(inplace=True),\n",
    "    nn.Conv2d(in_channels=512, out_channels=512, kernel_size=3, padding=1),\n",
    "    nn.ReLU(inplace=True),\n",
    "    nn.Conv2d(in_channels=512, out_channels=512, kernel_size=3, padding=1),\n",
    "    nn.ReLU(inplace=True),\n",
    "    nn.BatchNorm2d(512),\n",
    "    nn.MaxPool2d(kernel_size=2),\n",
    "\n",
    "    Flattener(),\n",
    "\n",
    "    nn.Linear(512, 1024),\n",
    "    nn.ReLU(inplace=True),\n",
    "    nn.BatchNorm1d(1024),\n",
    "\n",
    "    nn.Linear(1024, 10))\n",
    "\n",
    "best_model.type(torch.cuda.FloatTensor)\n",
    "best_model.to(device)\n",
    "\n",
    "loss = nn.CrossEntropyLoss().type(torch.cuda.FloatTensor)\n",
    "#optimizer = optim.SGD(best_model.parameters(), lr=lrates, weight_decay=rgs)\n",
    "#optimizer = optim.Adam(best_model.parameters(), lr=lrates, weight_decay=rgs)\n",
    "optimizer = optim.Adagrad(best_model.parameters(), lr=lrates, weight_decay=rgs)\n",
    "scheduler = optim.lr_scheduler.ReduceLROnPlateau(optimizer, factor = 0.5, patience = 2, verbose = False)\n",
    "#scheduler = optim.lr_scheduler.StepLR(optimizer, 2, gamma=0.5)\n",
    "\n",
    "loss_history, train_history, val_history = train_model(best_model, train_aug_loader, val_loader, loss, optimizer, epoch_num, scheduler)"
   ]
  },
  {
   "cell_type": "markdown",
   "metadata": {
    "id": "ubeKgBcnhx7N"
   },
   "source": [
    "# Финальный аккорд - проверим лучшую модель на test set\n",
    "\n",
    "В качестве разнообразия - напишите код для прогона модели на test set вы.\n",
    "\n",
    "В результате вы должны натренировать модель, которая покажет более **90%** точности на test set.  \n",
    "Как водится, лучший результат в группе получит дополнительные баллы!"
   ]
  },
  {
   "cell_type": "code",
   "execution_count": 13,
   "metadata": {
    "colab": {
     "base_uri": "https://localhost:8080/"
    },
    "id": "EIqM1kdeh-hd",
    "outputId": "48ae94ac-fe6a-44b3-b856-c8324fbabd3b"
   },
   "outputs": [
    {
     "name": "stdout",
     "output_type": "stream",
     "text": [
      "Final test accuracy -  0.9235940381069453\n"
     ]
    }
   ],
   "source": [
    "# TODO Write the code to compute accuracy on test set\n",
    "test_loader = torch.utils.data.DataLoader(data_test, batch_size=batch_size)\n",
    "final_test_accuracy = compute_accuracy(best_model, test_loader)\n",
    "print(\"Final test accuracy - \", final_test_accuracy)"
   ]
  },
  {
   "cell_type": "code",
   "execution_count": 15,
   "metadata": {
    "id": "BfH6qip6kVX_"
   },
   "outputs": [
    {
     "name": "stdout",
     "output_type": "stream",
     "text": [
      "cla$$ =)\n"
     ]
    }
   ],
   "source": [
    "print(\"cla$$ =)\")"
   ]
  },
  {
   "cell_type": "code",
   "execution_count": null,
   "metadata": {},
   "outputs": [],
   "source": []
  }
 ],
 "metadata": {
  "accelerator": "GPU",
  "colab": {
   "collapsed_sections": [],
   "name": "Копия блокнота \"PyTorch_CNN.ipynb\"",
   "provenance": []
  },
  "kernelspec": {
   "display_name": "Python 3",
   "language": "python",
   "name": "python3"
  },
  "language_info": {
   "codemirror_mode": {
    "name": "ipython",
    "version": 3
   },
   "file_extension": ".py",
   "mimetype": "text/x-python",
   "name": "python",
   "nbconvert_exporter": "python",
   "pygments_lexer": "ipython3",
   "version": "3.9.2"
  }
 },
 "nbformat": 4,
 "nbformat_minor": 4
}
